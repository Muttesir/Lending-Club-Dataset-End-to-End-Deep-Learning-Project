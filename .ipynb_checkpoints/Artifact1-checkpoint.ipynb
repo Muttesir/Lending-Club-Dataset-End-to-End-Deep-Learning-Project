{
 "cells": [
  {
   "cell_type": "markdown",
   "id": "447bd1fe-8721-4592-87ec-b9b8d93f9d95",
   "metadata": {},
   "source": [
    "# Master Project \n",
    "\n",
    "## The Data"
   ]
  },
  {
   "cell_type": "markdown",
   "id": "e112dd01-3821-4b95-a544-7f05502f8850",
   "metadata": {},
   "source": [
    "Subset of the LendingClub DataSet obtained from Kaggle https://www.kaggle.com/datasets/wordsforthewise/lending-club\n",
    "\n",
    "**What is Kaggle?**\n",
    "\n",
    "Kaggle allows users to find and publish data sets, explore and build models in a web-based data-science environment, work with other data scientists and machine learning engineers, and enter competitions to solve data science challenges."
   ]
  },
  {
   "cell_type": "markdown",
   "id": "8a501f1f-864e-4bb8-ad38-eac1026b12a0",
   "metadata": {},
   "source": [
    "## My Aims\n",
    "To solve credit fraud detection using deep learning models; in the future, when the companies get a new potential client, \n",
    "they will be able to anticipate whether or not they will repay the loan. \n",
    "Furthermore, this project will assist finance organisations in calculating the risk that their clients will pose, learning ahead of time about a prospective non-repayment issue,\n",
    "and taking action according to the customer."
   ]
  },
  {
   "cell_type": "markdown",
   "id": "25a5c6b2-6ecd-4ad6-89bf-b65257948633",
   "metadata": {},
   "source": [
    "## This project will be Three Sections\n",
    "\n",
    "**Section1:** Exploratory Data Analysis, aims of this sections; get an understanding for which variables are important, view summary statistics, and visualize the data.\n",
    "\n",
    "**Section2:** Data PreProcessing, aims of this section; remove or fill any missing data. Remove unnecessary or repetitive features. Convert categorical string features to dummy variables.\n",
    "\n",
    "**Section3:** Creating and Evaluating Model Performance, aims of this section;\tPredict whether give loans to new customers , finding customers whether paying back their loan."
   ]
  },
  {
   "cell_type": "markdown",
   "id": "a56c8360-8900-4e59-bd18-42e2fa89be38",
   "metadata": {},
   "source": [
    "## Loading the data and other imports"
   ]
  },
  {
   "cell_type": "code",
   "execution_count": 154,
   "id": "4c006d17-1ef2-492d-abac-916cec22b624",
   "metadata": {},
   "outputs": [],
   "source": [
    "# objective:Create a solution that automatically collects data from data sheets and adapts it to the desired format. Using  below libraries\n",
    "import pandas as pd \n",
    "import numpy as np\n",
    "\n",
    "#---------------------------------------------------------------------------------------------------#\n",
    "#objective:Employ a Programming Language to visualise and monitor data from the collection. Using below libraries\n",
    "import matplotlib.pyplot as plt\n",
    "import seaborn as sns\n",
    "%matplotlib inline\n",
    "\n",
    "#---------------------------------------------------------------------------------------------------#\n",
    "#objective: Create a deep learning model and evaluate model performance. Using below libraries   \n",
    "from sklearn.model_selection import train_test_split\n",
    "from sklearn.preprocessing import MinMaxScaler\n",
    "import tensorflow as tf\n",
    "from tensorflow.keras.models import Sequential\n",
    "from tensorflow.keras.layers import Dense, Activation,Dropout\n",
    "from tensorflow.keras.constraints import max_norm\n",
    "from tensorflow.keras.models import load_model\n",
    "from tensorflow.keras.callbacks import EarlyStopping\n",
    "from sklearn.metrics import classification_report,confusion_matrix"
   ]
  },
  {
   "cell_type": "code",
   "execution_count": 155,
   "id": "7a64f61f-0caa-48d8-9291-588ed032f3bd",
   "metadata": {},
   "outputs": [],
   "source": [
    "#Stoping unusuall warnings \n",
    "import warnings\n",
    "warnings.filterwarnings('ignore', category=DeprecationWarning)\n",
    "warnings.filterwarnings('ignore', category=FutureWarning)"
   ]
  },
  {
   "cell_type": "code",
   "execution_count": 156,
   "id": "1c01f891-f9c2-4784-873d-a9ffd1627188",
   "metadata": {},
   "outputs": [],
   "source": [
    "## Provide feature information on the data as a .csv file for easy lookup throughout the notebook\n",
    "df_info=pd.read_csv('lending_club_info.csv',index_col='LoanStatNew')"
   ]
  },
  {
   "cell_type": "code",
   "execution_count": 157,
   "id": "d5ca1640-76fc-4683-a55d-10ae81fe1004",
   "metadata": {},
   "outputs": [
    {
     "data": {
      "text/html": [
       "<div>\n",
       "<style scoped>\n",
       "    .dataframe tbody tr th:only-of-type {\n",
       "        vertical-align: middle;\n",
       "    }\n",
       "\n",
       "    .dataframe tbody tr th {\n",
       "        vertical-align: top;\n",
       "    }\n",
       "\n",
       "    .dataframe thead th {\n",
       "        text-align: right;\n",
       "    }\n",
       "</style>\n",
       "<table border=\"1\" class=\"dataframe\">\n",
       "  <thead>\n",
       "    <tr style=\"text-align: right;\">\n",
       "      <th></th>\n",
       "      <th>Description</th>\n",
       "    </tr>\n",
       "    <tr>\n",
       "      <th>LoanStatNew</th>\n",
       "      <th></th>\n",
       "    </tr>\n",
       "  </thead>\n",
       "  <tbody>\n",
       "    <tr>\n",
       "      <th>loan_amnt</th>\n",
       "      <td>The listed amount of the loan applied for by t...</td>\n",
       "    </tr>\n",
       "    <tr>\n",
       "      <th>term</th>\n",
       "      <td>The number of payments on the loan. Values are...</td>\n",
       "    </tr>\n",
       "    <tr>\n",
       "      <th>int_rate</th>\n",
       "      <td>Interest Rate on the loan</td>\n",
       "    </tr>\n",
       "    <tr>\n",
       "      <th>installment</th>\n",
       "      <td>The monthly payment owed by the borrower if th...</td>\n",
       "    </tr>\n",
       "    <tr>\n",
       "      <th>grade</th>\n",
       "      <td>LC assigned loan grade</td>\n",
       "    </tr>\n",
       "  </tbody>\n",
       "</table>\n",
       "</div>"
      ],
      "text/plain": [
       "                                                   Description\n",
       "LoanStatNew                                                   \n",
       "loan_amnt    The listed amount of the loan applied for by t...\n",
       "term         The number of payments on the loan. Values are...\n",
       "int_rate                             Interest Rate on the loan\n",
       "installment  The monthly payment owed by the borrower if th...\n",
       "grade                                   LC assigned loan grade"
      ]
     },
     "execution_count": 157,
     "metadata": {},
     "output_type": "execute_result"
    }
   ],
   "source": [
    "df_info.head()"
   ]
  },
  {
   "cell_type": "code",
   "execution_count": 158,
   "id": "8a6cc2db-4720-4e41-9a8a-9a960ae22748",
   "metadata": {},
   "outputs": [
    {
     "name": "stdout",
     "output_type": "stream",
     "text": [
      "The listed amount of the loan applied for by the borrower. If at some point in time, the credit department reduces the loan amount, then it will be reflected in this value.\n",
      "The monthly payment owed by the borrower if the loan originates.\n"
     ]
    }
   ],
   "source": [
    "# Creating Function to get information from Description \n",
    "def feat_info(col_name):\n",
    "    print(df_info.loc[col_name]['Description'])\n",
    "\n",
    "# Example\n",
    "feat_info('loan_amnt')\n",
    "feat_info('installment')"
   ]
  },
  {
   "cell_type": "markdown",
   "id": "b225b7f0-7493-46ac-a21b-a6949ba34f75",
   "metadata": {},
   "source": [
    "**Importing actual dataset**"
   ]
  },
  {
   "cell_type": "code",
   "execution_count": 159,
   "id": "e2a7e836-b72d-456a-82c5-10b90d8a6f69",
   "metadata": {},
   "outputs": [],
   "source": [
    "df1=pd.read_csv('lending_club_loan.csv')"
   ]
  },
  {
   "cell_type": "code",
   "execution_count": 160,
   "id": "316d5458-03e9-41c9-a4d9-dc38f0b1f29d",
   "metadata": {},
   "outputs": [
    {
     "data": {
      "text/html": [
       "<div>\n",
       "<style scoped>\n",
       "    .dataframe tbody tr th:only-of-type {\n",
       "        vertical-align: middle;\n",
       "    }\n",
       "\n",
       "    .dataframe tbody tr th {\n",
       "        vertical-align: top;\n",
       "    }\n",
       "\n",
       "    .dataframe thead th {\n",
       "        text-align: right;\n",
       "    }\n",
       "</style>\n",
       "<table border=\"1\" class=\"dataframe\">\n",
       "  <thead>\n",
       "    <tr style=\"text-align: right;\">\n",
       "      <th></th>\n",
       "      <th>loan_amnt</th>\n",
       "      <th>term</th>\n",
       "      <th>int_rate</th>\n",
       "      <th>installment</th>\n",
       "      <th>grade</th>\n",
       "      <th>sub_grade</th>\n",
       "      <th>emp_title</th>\n",
       "      <th>emp_length</th>\n",
       "      <th>home_ownership</th>\n",
       "      <th>annual_inc</th>\n",
       "      <th>...</th>\n",
       "      <th>open_acc</th>\n",
       "      <th>pub_rec</th>\n",
       "      <th>revol_bal</th>\n",
       "      <th>revol_util</th>\n",
       "      <th>total_acc</th>\n",
       "      <th>initial_list_status</th>\n",
       "      <th>application_type</th>\n",
       "      <th>mort_acc</th>\n",
       "      <th>pub_rec_bankruptcies</th>\n",
       "      <th>address</th>\n",
       "    </tr>\n",
       "  </thead>\n",
       "  <tbody>\n",
       "    <tr>\n",
       "      <th>0</th>\n",
       "      <td>10000.0</td>\n",
       "      <td>36 months</td>\n",
       "      <td>11.44</td>\n",
       "      <td>329.48</td>\n",
       "      <td>B</td>\n",
       "      <td>B4</td>\n",
       "      <td>Marketing</td>\n",
       "      <td>10+ years</td>\n",
       "      <td>RENT</td>\n",
       "      <td>117000.0</td>\n",
       "      <td>...</td>\n",
       "      <td>16.0</td>\n",
       "      <td>0.0</td>\n",
       "      <td>36369.0</td>\n",
       "      <td>41.8</td>\n",
       "      <td>25.0</td>\n",
       "      <td>w</td>\n",
       "      <td>INDIVIDUAL</td>\n",
       "      <td>0.0</td>\n",
       "      <td>0.0</td>\n",
       "      <td>0174 Michelle Gateway\\nMendozaberg, OK 22690</td>\n",
       "    </tr>\n",
       "    <tr>\n",
       "      <th>1</th>\n",
       "      <td>8000.0</td>\n",
       "      <td>36 months</td>\n",
       "      <td>11.99</td>\n",
       "      <td>265.68</td>\n",
       "      <td>B</td>\n",
       "      <td>B5</td>\n",
       "      <td>Credit analyst</td>\n",
       "      <td>4 years</td>\n",
       "      <td>MORTGAGE</td>\n",
       "      <td>65000.0</td>\n",
       "      <td>...</td>\n",
       "      <td>17.0</td>\n",
       "      <td>0.0</td>\n",
       "      <td>20131.0</td>\n",
       "      <td>53.3</td>\n",
       "      <td>27.0</td>\n",
       "      <td>f</td>\n",
       "      <td>INDIVIDUAL</td>\n",
       "      <td>3.0</td>\n",
       "      <td>0.0</td>\n",
       "      <td>1076 Carney Fort Apt. 347\\nLoganmouth, SD 05113</td>\n",
       "    </tr>\n",
       "    <tr>\n",
       "      <th>2</th>\n",
       "      <td>15600.0</td>\n",
       "      <td>36 months</td>\n",
       "      <td>10.49</td>\n",
       "      <td>506.97</td>\n",
       "      <td>B</td>\n",
       "      <td>B3</td>\n",
       "      <td>Statistician</td>\n",
       "      <td>&lt; 1 year</td>\n",
       "      <td>RENT</td>\n",
       "      <td>43057.0</td>\n",
       "      <td>...</td>\n",
       "      <td>13.0</td>\n",
       "      <td>0.0</td>\n",
       "      <td>11987.0</td>\n",
       "      <td>92.2</td>\n",
       "      <td>26.0</td>\n",
       "      <td>f</td>\n",
       "      <td>INDIVIDUAL</td>\n",
       "      <td>0.0</td>\n",
       "      <td>0.0</td>\n",
       "      <td>87025 Mark Dale Apt. 269\\nNew Sabrina, WV 05113</td>\n",
       "    </tr>\n",
       "    <tr>\n",
       "      <th>3</th>\n",
       "      <td>7200.0</td>\n",
       "      <td>36 months</td>\n",
       "      <td>6.49</td>\n",
       "      <td>220.65</td>\n",
       "      <td>A</td>\n",
       "      <td>A2</td>\n",
       "      <td>Client Advocate</td>\n",
       "      <td>6 years</td>\n",
       "      <td>RENT</td>\n",
       "      <td>54000.0</td>\n",
       "      <td>...</td>\n",
       "      <td>6.0</td>\n",
       "      <td>0.0</td>\n",
       "      <td>5472.0</td>\n",
       "      <td>21.5</td>\n",
       "      <td>13.0</td>\n",
       "      <td>f</td>\n",
       "      <td>INDIVIDUAL</td>\n",
       "      <td>0.0</td>\n",
       "      <td>0.0</td>\n",
       "      <td>823 Reid Ford\\nDelacruzside, MA 00813</td>\n",
       "    </tr>\n",
       "    <tr>\n",
       "      <th>4</th>\n",
       "      <td>24375.0</td>\n",
       "      <td>60 months</td>\n",
       "      <td>17.27</td>\n",
       "      <td>609.33</td>\n",
       "      <td>C</td>\n",
       "      <td>C5</td>\n",
       "      <td>Destiny Management Inc.</td>\n",
       "      <td>9 years</td>\n",
       "      <td>MORTGAGE</td>\n",
       "      <td>55000.0</td>\n",
       "      <td>...</td>\n",
       "      <td>13.0</td>\n",
       "      <td>0.0</td>\n",
       "      <td>24584.0</td>\n",
       "      <td>69.8</td>\n",
       "      <td>43.0</td>\n",
       "      <td>f</td>\n",
       "      <td>INDIVIDUAL</td>\n",
       "      <td>1.0</td>\n",
       "      <td>0.0</td>\n",
       "      <td>679 Luna Roads\\nGreggshire, VA 11650</td>\n",
       "    </tr>\n",
       "  </tbody>\n",
       "</table>\n",
       "<p>5 rows × 27 columns</p>\n",
       "</div>"
      ],
      "text/plain": [
       "   loan_amnt        term  int_rate  installment grade sub_grade  \\\n",
       "0    10000.0   36 months     11.44       329.48     B        B4   \n",
       "1     8000.0   36 months     11.99       265.68     B        B5   \n",
       "2    15600.0   36 months     10.49       506.97     B        B3   \n",
       "3     7200.0   36 months      6.49       220.65     A        A2   \n",
       "4    24375.0   60 months     17.27       609.33     C        C5   \n",
       "\n",
       "                 emp_title emp_length home_ownership  annual_inc  ...  \\\n",
       "0                Marketing  10+ years           RENT    117000.0  ...   \n",
       "1          Credit analyst     4 years       MORTGAGE     65000.0  ...   \n",
       "2             Statistician   < 1 year           RENT     43057.0  ...   \n",
       "3          Client Advocate    6 years           RENT     54000.0  ...   \n",
       "4  Destiny Management Inc.    9 years       MORTGAGE     55000.0  ...   \n",
       "\n",
       "  open_acc pub_rec revol_bal revol_util total_acc  initial_list_status  \\\n",
       "0     16.0     0.0   36369.0       41.8      25.0                    w   \n",
       "1     17.0     0.0   20131.0       53.3      27.0                    f   \n",
       "2     13.0     0.0   11987.0       92.2      26.0                    f   \n",
       "3      6.0     0.0    5472.0       21.5      13.0                    f   \n",
       "4     13.0     0.0   24584.0       69.8      43.0                    f   \n",
       "\n",
       "  application_type  mort_acc  pub_rec_bankruptcies  \\\n",
       "0       INDIVIDUAL       0.0                   0.0   \n",
       "1       INDIVIDUAL       3.0                   0.0   \n",
       "2       INDIVIDUAL       0.0                   0.0   \n",
       "3       INDIVIDUAL       0.0                   0.0   \n",
       "4       INDIVIDUAL       1.0                   0.0   \n",
       "\n",
       "                                           address  \n",
       "0     0174 Michelle Gateway\\nMendozaberg, OK 22690  \n",
       "1  1076 Carney Fort Apt. 347\\nLoganmouth, SD 05113  \n",
       "2  87025 Mark Dale Apt. 269\\nNew Sabrina, WV 05113  \n",
       "3            823 Reid Ford\\nDelacruzside, MA 00813  \n",
       "4             679 Luna Roads\\nGreggshire, VA 11650  \n",
       "\n",
       "[5 rows x 27 columns]"
      ]
     },
     "execution_count": 160,
     "metadata": {},
     "output_type": "execute_result"
    }
   ],
   "source": [
    "# Checking top of 5 rows on dataset\n",
    "df1.head()"
   ]
  },
  {
   "cell_type": "code",
   "execution_count": 161,
   "id": "6826e8b4-9f45-407b-91b1-4ea6889b3aa8",
   "metadata": {},
   "outputs": [
    {
     "name": "stdout",
     "output_type": "stream",
     "text": [
      "<class 'pandas.core.frame.DataFrame'>\n",
      "RangeIndex: 396030 entries, 0 to 396029\n",
      "Data columns (total 27 columns):\n",
      " #   Column                Non-Null Count   Dtype  \n",
      "---  ------                --------------   -----  \n",
      " 0   loan_amnt             396030 non-null  float64\n",
      " 1   term                  396030 non-null  object \n",
      " 2   int_rate              396030 non-null  float64\n",
      " 3   installment           396030 non-null  float64\n",
      " 4   grade                 396030 non-null  object \n",
      " 5   sub_grade             396030 non-null  object \n",
      " 6   emp_title             373103 non-null  object \n",
      " 7   emp_length            377729 non-null  object \n",
      " 8   home_ownership        396030 non-null  object \n",
      " 9   annual_inc            396030 non-null  float64\n",
      " 10  verification_status   396030 non-null  object \n",
      " 11  issue_d               396030 non-null  object \n",
      " 12  loan_status           396030 non-null  object \n",
      " 13  purpose               396030 non-null  object \n",
      " 14  title                 394275 non-null  object \n",
      " 15  dti                   396030 non-null  float64\n",
      " 16  earliest_cr_line      396030 non-null  object \n",
      " 17  open_acc              396030 non-null  float64\n",
      " 18  pub_rec               396030 non-null  float64\n",
      " 19  revol_bal             396030 non-null  float64\n",
      " 20  revol_util            395754 non-null  float64\n",
      " 21  total_acc             396030 non-null  float64\n",
      " 22  initial_list_status   396030 non-null  object \n",
      " 23  application_type      396030 non-null  object \n",
      " 24  mort_acc              358235 non-null  float64\n",
      " 25  pub_rec_bankruptcies  395495 non-null  float64\n",
      " 26  address               396030 non-null  object \n",
      "dtypes: float64(12), object(15)\n",
      "memory usage: 81.6+ MB\n"
     ]
    }
   ],
   "source": [
    "#The info() method prints information about the DataFrame.\n",
    "df1.info()"
   ]
  },
  {
   "cell_type": "markdown",
   "id": "cade6927-e098-4450-a811-c7790789f4a8",
   "metadata": {},
   "source": [
    "## Section 1: Exploratory Data Analysis"
   ]
  },
  {
   "cell_type": "markdown",
   "id": "99b06ffb-5aaf-4e98-8faa-446ed67fc5a1",
   "metadata": {},
   "source": [
    "**TASK: Since I will be attempting to predict loan_status, create a countplot as shown below.**"
   ]
  },
  {
   "cell_type": "code",
   "execution_count": 162,
   "id": "1e95c903-8ce5-4feb-9c95-34ebebe3445a",
   "metadata": {},
   "outputs": [
    {
     "name": "stdout",
     "output_type": "stream",
     "text": [
      " Data set dimensions : (396030, 27)\n"
     ]
    },
    {
     "data": {
      "text/plain": [
       "loan_status\n",
       "Charged Off     77673\n",
       "Fully Paid     318357\n",
       "dtype: int64"
      ]
     },
     "execution_count": 162,
     "metadata": {},
     "output_type": "execute_result"
    }
   ],
   "source": [
    "print(\" Data set dimensions : {}\".format(df1.shape))\n",
    "df1.groupby('loan_status').size()"
   ]
  },
  {
   "cell_type": "code",
   "execution_count": 163,
   "id": "240e6eb6-cb94-4736-8de2-83eea89ff851",
   "metadata": {},
   "outputs": [
    {
     "data": {
      "image/png": "[encoded data removed]",
      "text/plain": [
       "<Figure size 504x360 with 1 Axes>"
      ]
     },
     "metadata": {
      "needs_background": "light"
     },
     "output_type": "display_data"
    }
   ],
   "source": [
    "plt.figure(figsize=(7,5))\n",
    "sns.countplot(x='loan_status',data=df1,palette = \"magma\");"
   ]
  },
  {
   "cell_type": "markdown",
   "id": "72dfa617-0c2d-4346-9732-8a51e1b290e3",
   "metadata": {},
   "source": [
    "**TASK: Balancing target columns**  "
   ]
  },
  {
   "cell_type": "code",
   "execution_count": 164,
   "id": "ed584ba9-9d3c-4830-94df-8f45518213a7",
   "metadata": {},
   "outputs": [],
   "source": [
    "df2 = df1.loc[df1['loan_status']=='Fully Paid'].sample(n=77000).copy()\n",
    "#All Churned Customers\n",
    "df3 = df1.loc[df1['loan_status']=='Charged Off'].copy()\n",
    "#Concat all customers, with new index on raws\n",
    "df4 = pd.concat([df2,df3], ignore_index=True)# Shuffle raws randomly\n",
    "df4 = df4.sample(frac=1)# Reset index of every  raws\n",
    "df4.reset_index(drop=True, inplace=True)\n",
    "df=df4.copy()"
   ]
  },
  {
   "cell_type": "code",
   "execution_count": 165,
   "id": "7e8d1025-7eae-445c-b686-647401cfe2f1",
   "metadata": {},
   "outputs": [
    {
     "data": {
      "image/png": "[encoded data removed]",
      "text/plain": [
       "<Figure size 504x360 with 1 Axes>"
      ]
     },
     "metadata": {
      "needs_background": "light"
     },
     "output_type": "display_data"
    }
   ],
   "source": [
    "plt.figure(figsize=(7,5))\n",
    "sns.countplot(x='loan_status',data=df,palette = \"magma\");"
   ]
  },
  {
   "cell_type": "markdown",
   "id": "515ea946-a945-4f40-8e39-2d4d04a3e2b8",
   "metadata": {},
   "source": [
    "**TASK: Let's explore correlation between the continuous feature variables. Calculate the correlation between all continuous numeric variables using .corr() method.**"
   ]
  },
  {
   "cell_type": "code",
   "execution_count": 166,
   "id": "2ed63ab8-61d5-445f-8d2a-598475106d2c",
   "metadata": {},
   "outputs": [
    {
     "data": {
      "image/png": "[encoded data removed]",
      "text/plain": [
       "<Figure size 864x504 with 2 Axes>"
      ]
     },
     "metadata": {
      "needs_background": "light"
     },
     "output_type": "display_data"
    }
   ],
   "source": [
    "plt.figure(figsize=(12,7))\n",
    "sns.heatmap(df.corr(),annot=True,cmap='magma')\n",
    "plt.ylim(10, 0);"
   ]
  },
  {
   "cell_type": "markdown",
   "id": "f56f0e06-493b-4e95-bac7-4cd1eb60981a",
   "metadata": {},
   "source": [
    "**It has been noticed almost perfect correlation with 'Loan_amnt' the \"installment\" feature. Explore this feature further.**\n"
   ]
  },
  {
   "cell_type": "code",
   "execution_count": 167,
   "id": "bfb58d2c-012e-45fd-b826-cc70e0f81a93",
   "metadata": {},
   "outputs": [
    {
     "name": "stdout",
     "output_type": "stream",
     "text": [
      "The listed amount of the loan applied for by the borrower. If at some point in time, the credit department reduces the loan amount, then it will be reflected in this value.\n",
      "\n",
      "\n",
      "The monthly payment owed by the borrower if the loan originates.\n"
     ]
    }
   ],
   "source": [
    "feat_info('loan_amnt')\n",
    "print('\\n')\n",
    "feat_info('installment')"
   ]
  },
  {
   "cell_type": "code",
   "execution_count": 168,
   "id": "e59ab214-a9fe-48e1-b4f0-0454ac3bd923",
   "metadata": {},
   "outputs": [
    {
     "data": {
      "image/png": "[encoded data removed]",
      "text/plain": [
       "<Figure size 864x504 with 1 Axes>"
      ]
     },
     "metadata": {
      "needs_background": "light"
     },
     "output_type": "display_data"
    }
   ],
   "source": [
    "plt.figure(figsize=(12,7))\n",
    "sns.scatterplot(x='installment',y='loan_amnt',data=df,color=\"purple\", marker=\"o\");"
   ]
  },
  {
   "cell_type": "markdown",
   "id": "957428d8-591f-4a26-ae6f-41ea37ab1017",
   "metadata": {},
   "source": [
    "**TASK: Create a histogram of the loan_amnt column**"
   ]
  },
  {
   "cell_type": "code",
   "execution_count": 169,
   "id": "162d84ef-27f0-4c6a-bd53-dcacfb52a7e7",
   "metadata": {},
   "outputs": [
    {
     "data": {
      "image/png": "[encoded data removed]",
      "text/plain": [
       "<Figure size 864x504 with 1 Axes>"
      ]
     },
     "metadata": {
      "needs_background": "light"
     },
     "output_type": "display_data"
    }
   ],
   "source": [
    "plt.figure(figsize=(12,7))\n",
    "sns.histplot(x='loan_amnt',kde=False,bins=40,hue='loan_status', data=df )\n",
    "plt.xlim(0,45000);"
   ]
  },
  {
   "cell_type": "markdown",
   "id": "e0b8cb03-1d39-485d-82d6-eb9d0f7bcefd",
   "metadata": {},
   "source": [
    "**TASK: Create a boxplot showing the relationship between the loan_status and the Loan Amount.**"
   ]
  },
  {
   "cell_type": "code",
   "execution_count": 170,
   "id": "84431a68-be46-4052-9e73-9f2d65fac5f7",
   "metadata": {},
   "outputs": [
    {
     "data": {
      "image/png": "[encoded data removed]",
      "text/plain": [
       "<Figure size 576x576 with 1 Axes>"
      ]
     },
     "metadata": {
      "needs_background": "light"
     },
     "output_type": "display_data"
    }
   ],
   "source": [
    "plt.figure(figsize=(8,8))\n",
    "sns.boxplot(x='loan_status',y='loan_amnt',data=df,palette = \"magma\");"
   ]
  },
  {
   "cell_type": "markdown",
   "id": "0ca3df0f-2fd1-4325-bb28-77e452f7ea43",
   "metadata": {},
   "source": [
    "**TASK: Calculate the summary statistics for the loan amount, grouped by the loan_status**"
   ]
  },
  {
   "cell_type": "code",
   "execution_count": 171,
   "id": "3dba4bd2-e4d6-4029-9a1c-a9d47e3fba35",
   "metadata": {},
   "outputs": [
    {
     "data": {
      "text/html": [
       "<div>\n",
       "<style scoped>\n",
       "    .dataframe tbody tr th:only-of-type {\n",
       "        vertical-align: middle;\n",
       "    }\n",
       "\n",
       "    .dataframe tbody tr th {\n",
       "        vertical-align: top;\n",
       "    }\n",
       "\n",
       "    .dataframe thead th {\n",
       "        text-align: right;\n",
       "    }\n",
       "</style>\n",
       "<table border=\"1\" class=\"dataframe\">\n",
       "  <thead>\n",
       "    <tr style=\"text-align: right;\">\n",
       "      <th>loan_status</th>\n",
       "      <th>Charged Off</th>\n",
       "      <th>Fully Paid</th>\n",
       "    </tr>\n",
       "  </thead>\n",
       "  <tbody>\n",
       "    <tr>\n",
       "      <th>count</th>\n",
       "      <td>77673.000000</td>\n",
       "      <td>77000.000000</td>\n",
       "    </tr>\n",
       "    <tr>\n",
       "      <th>mean</th>\n",
       "      <td>15126.300967</td>\n",
       "      <td>13915.827597</td>\n",
       "    </tr>\n",
       "    <tr>\n",
       "      <th>std</th>\n",
       "      <td>8505.090557</td>\n",
       "      <td>8320.529268</td>\n",
       "    </tr>\n",
       "    <tr>\n",
       "      <th>min</th>\n",
       "      <td>1000.000000</td>\n",
       "      <td>700.000000</td>\n",
       "    </tr>\n",
       "    <tr>\n",
       "      <th>25%</th>\n",
       "      <td>8525.000000</td>\n",
       "      <td>7500.000000</td>\n",
       "    </tr>\n",
       "    <tr>\n",
       "      <th>50%</th>\n",
       "      <td>14000.000000</td>\n",
       "      <td>12000.000000</td>\n",
       "    </tr>\n",
       "    <tr>\n",
       "      <th>75%</th>\n",
       "      <td>20000.000000</td>\n",
       "      <td>19500.000000</td>\n",
       "    </tr>\n",
       "    <tr>\n",
       "      <th>max</th>\n",
       "      <td>40000.000000</td>\n",
       "      <td>40000.000000</td>\n",
       "    </tr>\n",
       "  </tbody>\n",
       "</table>\n",
       "</div>"
      ],
      "text/plain": [
       "loan_status   Charged Off    Fully Paid\n",
       "count        77673.000000  77000.000000\n",
       "mean         15126.300967  13915.827597\n",
       "std           8505.090557   8320.529268\n",
       "min           1000.000000    700.000000\n",
       "25%           8525.000000   7500.000000\n",
       "50%          14000.000000  12000.000000\n",
       "75%          20000.000000  19500.000000\n",
       "max          40000.000000  40000.000000"
      ]
     },
     "execution_count": 171,
     "metadata": {},
     "output_type": "execute_result"
    }
   ],
   "source": [
    "df.groupby('loan_status')['loan_amnt'].describe().T"
   ]
  },
  {
   "cell_type": "markdown",
   "id": "6a1b9416-148b-48b5-a5d8-66d8254e1106",
   "metadata": {},
   "source": [
    "**TASK: Let's explore the Grade and SubGrade columns that LendingClub attributes to the loans. What are the unique possible grades and subgrades?**"
   ]
  },
  {
   "cell_type": "code",
   "execution_count": 172,
   "id": "9bc34f21-ad9b-4f9f-8d84-99774b401f63",
   "metadata": {},
   "outputs": [
    {
     "name": "stdout",
     "output_type": "stream",
     "text": [
      "LC assigned loan grade\n"
     ]
    }
   ],
   "source": [
    "feat_info('grade')\n"
   ]
  },
  {
   "cell_type": "code",
   "execution_count": 173,
   "id": "12e5ec2e-3ee8-49c8-a544-c322876302ea",
   "metadata": {},
   "outputs": [
    {
     "data": {
      "text/plain": [
       "['A', 'B', 'C', 'D', 'E', 'F', 'G']"
      ]
     },
     "execution_count": 173,
     "metadata": {},
     "output_type": "execute_result"
    }
   ],
   "source": [
    "sorted(df['grade'].unique())"
   ]
  },
  {
   "cell_type": "code",
   "execution_count": 174,
   "id": "d7983e75-fc22-491c-808a-709525c51b24",
   "metadata": {},
   "outputs": [
    {
     "data": {
      "image/png": "[encoded data removed]",
      "text/plain": [
       "<Figure size 864x504 with 1 Axes>"
      ]
     },
     "metadata": {
      "needs_background": "light"
     },
     "output_type": "display_data"
    }
   ],
   "source": [
    "## Create a countplot per grade. Set the hue to the loan_status label\n",
    "plt.figure(figsize=(12,7))\n",
    "sns.countplot(x='grade',data=df,hue='loan_status',palette = \"magma\" );"
   ]
  },
  {
   "cell_type": "code",
   "execution_count": 175,
   "id": "2c4fca84-91b6-4ceb-a6ab-e3a9aeec0f3f",
   "metadata": {},
   "outputs": [
    {
     "name": "stdout",
     "output_type": "stream",
     "text": [
      "LC assigned loan subgrade\n"
     ]
    }
   ],
   "source": [
    "feat_info('sub_grade')"
   ]
  },
  {
   "cell_type": "code",
   "execution_count": 176,
   "id": "3e1e1600-f706-4651-8861-a29d5102792b",
   "metadata": {},
   "outputs": [
    {
     "data": {
      "text/plain": [
       "['A1',\n",
       " 'A2',\n",
       " 'A3',\n",
       " 'A4',\n",
       " 'A5',\n",
       " 'B1',\n",
       " 'B2',\n",
       " 'B3',\n",
       " 'B4',\n",
       " 'B5',\n",
       " 'C1',\n",
       " 'C2',\n",
       " 'C3',\n",
       " 'C4',\n",
       " 'C5',\n",
       " 'D1',\n",
       " 'D2',\n",
       " 'D3',\n",
       " 'D4',\n",
       " 'D5',\n",
       " 'E1',\n",
       " 'E2',\n",
       " 'E3',\n",
       " 'E4',\n",
       " 'E5',\n",
       " 'F1',\n",
       " 'F2',\n",
       " 'F3',\n",
       " 'F4',\n",
       " 'F5',\n",
       " 'G1',\n",
       " 'G2',\n",
       " 'G3',\n",
       " 'G4',\n",
       " 'G5']"
      ]
     },
     "execution_count": 176,
     "metadata": {},
     "output_type": "execute_result"
    }
   ],
   "source": [
    "sorted(df['sub_grade'].unique())"
   ]
  },
  {
   "cell_type": "code",
   "execution_count": 177,
   "id": "d9172a30-b936-45a4-8b3f-26cbc9c8f87f",
   "metadata": {},
   "outputs": [
    {
     "data": {
      "image/png": "[encoded data removed]",
      "text/plain": [
       "<Figure size 864x504 with 1 Axes>"
      ]
     },
     "metadata": {
      "needs_background": "light"
     },
     "output_type": "display_data"
    }
   ],
   "source": [
    "#Display a count plot per subgrade. Explore both all loans made per subgrade as well being separated based on the loan status\n",
    "\n",
    "plt.figure(figsize=(12,7))\n",
    "subgrade_order = sorted(df['sub_grade'].unique())\n",
    "sns.countplot(x='sub_grade',data=df,order = subgrade_order,palette='magma' ,hue='loan_status');"
   ]
  },
  {
   "cell_type": "markdown",
   "id": "de0b3e87-fe53-468d-84ed-4729dc9c5791",
   "metadata": {},
   "source": [
    "**TASK: It looks like F and G subgrades don't get paid back that often. Isloate those and recreate the countplot just for those subgrades.**"
   ]
  },
  {
   "cell_type": "code",
   "execution_count": 178,
   "id": "b41dc005-5d21-45dd-b960-2156195e28fc",
   "metadata": {},
   "outputs": [
    {
     "data": {
      "image/png": "[encoded data removed]",
      "text/plain": [
       "<Figure size 864x504 with 1 Axes>"
      ]
     },
     "metadata": {
      "needs_background": "light"
     },
     "output_type": "display_data"
    }
   ],
   "source": [
    "f_and_g = df[(df['grade']=='G') | (df['grade']=='F')]\n",
    "plt.figure(figsize=(12,7))\n",
    "subgrade_order = sorted(f_and_g['sub_grade'].unique())\n",
    "sns.countplot(x='sub_grade',data=f_and_g,order = subgrade_order,hue='loan_status',palette='magma' );\n"
   ]
  },
  {
   "cell_type": "markdown",
   "id": "b45b8f96-ab4f-4680-a90b-c222c01ee1f8",
   "metadata": {},
   "source": [
    "**TASK: Create a new column called 'load_repaid' which will contain a 1 if the loan status was \"Fully Paid\" and a 0 if it was \"Charged Off**"
   ]
  },
  {
   "cell_type": "code",
   "execution_count": 179,
   "id": "bc75eebb-b01b-4f7c-90a9-63b4b3b64d41",
   "metadata": {},
   "outputs": [
    {
     "data": {
      "text/html": [
       "<div>\n",
       "<style scoped>\n",
       "    .dataframe tbody tr th:only-of-type {\n",
       "        vertical-align: middle;\n",
       "    }\n",
       "\n",
       "    .dataframe tbody tr th {\n",
       "        vertical-align: top;\n",
       "    }\n",
       "\n",
       "    .dataframe thead th {\n",
       "        text-align: right;\n",
       "    }\n",
       "</style>\n",
       "<table border=\"1\" class=\"dataframe\">\n",
       "  <thead>\n",
       "    <tr style=\"text-align: right;\">\n",
       "      <th></th>\n",
       "      <th>loan_repaid</th>\n",
       "      <th>loan_status</th>\n",
       "    </tr>\n",
       "  </thead>\n",
       "  <tbody>\n",
       "    <tr>\n",
       "      <th>0</th>\n",
       "      <td>0</td>\n",
       "      <td>Charged Off</td>\n",
       "    </tr>\n",
       "    <tr>\n",
       "      <th>1</th>\n",
       "      <td>0</td>\n",
       "      <td>Charged Off</td>\n",
       "    </tr>\n",
       "    <tr>\n",
       "      <th>2</th>\n",
       "      <td>0</td>\n",
       "      <td>Charged Off</td>\n",
       "    </tr>\n",
       "    <tr>\n",
       "      <th>3</th>\n",
       "      <td>1</td>\n",
       "      <td>Fully Paid</td>\n",
       "    </tr>\n",
       "    <tr>\n",
       "      <th>4</th>\n",
       "      <td>0</td>\n",
       "      <td>Charged Off</td>\n",
       "    </tr>\n",
       "  </tbody>\n",
       "</table>\n",
       "</div>"
      ],
      "text/plain": [
       "   loan_repaid  loan_status\n",
       "0            0  Charged Off\n",
       "1            0  Charged Off\n",
       "2            0  Charged Off\n",
       "3            1   Fully Paid\n",
       "4            0  Charged Off"
      ]
     },
     "execution_count": 179,
     "metadata": {},
     "output_type": "execute_result"
    }
   ],
   "source": [
    "df['loan_repaid'] = df['loan_status'].map({'Fully Paid':1,'Charged Off':0})\n",
    "df[['loan_repaid','loan_status']].head()"
   ]
  },
  {
   "cell_type": "markdown",
   "id": "f26ffd96-52ac-403c-ad01-0c0537bbe9c9",
   "metadata": {},
   "source": [
    "**TASK:  Create a bar plot showing the correlation of the numeric features to the new loan_repaid column.**"
   ]
  },
  {
   "cell_type": "code",
   "execution_count": 180,
   "id": "143569bf-1911-4fcf-a65f-b8836af1bde5",
   "metadata": {},
   "outputs": [
    {
     "data": {
      "image/png": "[encoded data removed]",
      "text/plain": [
       "<Figure size 576x360 with 1 Axes>"
      ]
     },
     "metadata": {
      "needs_background": "light"
     },
     "output_type": "display_data"
    }
   ],
   "source": [
    "plt.figure(figsize=(8,5))\n",
    "df.corr()['loan_repaid'].sort_values().drop('loan_repaid').plot(kind='bar', color='red');"
   ]
  },
  {
   "cell_type": "markdown",
   "id": "45f7663b-c627-41ee-a9b0-2b7688aa393f",
   "metadata": {},
   "source": [
    "# Section 2: Data PreProcessing"
   ]
  },
  {
   "cell_type": "markdown",
   "id": "51e72bc6-cd02-4e7d-8ec6-b266ba587cf6",
   "metadata": {},
   "source": [
    "**There are two subsection on this section one Dealing with missing values and second converting categorical variables to numeric values.**"
   ]
  },
  {
   "cell_type": "markdown",
   "id": "e893366d-7ade-4618-b94e-2aee9462d05e",
   "metadata": {},
   "source": [
    "## a) Missing Data"
   ]
  },
  {
   "cell_type": "code",
   "execution_count": 181,
   "id": "42a3ebfc-fc0f-4fb3-baf0-e18b103a546f",
   "metadata": {},
   "outputs": [
    {
     "name": "stdout",
     "output_type": "stream",
     "text": [
      "154673\n"
     ]
    }
   ],
   "source": [
    "#lenght of dataframe  \n",
    "print(len(df))"
   ]
  },
  {
   "cell_type": "markdown",
   "id": "3663ace4-29e2-40e7-b0b8-5a586b4684b3",
   "metadata": {},
   "source": [
    "**TASK: Create a Series that displays the total count of missing values per column.**"
   ]
  },
  {
   "cell_type": "code",
   "execution_count": 182,
   "id": "a4c9fb42-23ad-427c-be3c-ddaf08b27224",
   "metadata": {},
   "outputs": [
    {
     "data": {
      "text/plain": [
       "loan_amnt                   0\n",
       "term                        0\n",
       "int_rate                    0\n",
       "installment                 0\n",
       "grade                       0\n",
       "sub_grade                   0\n",
       "emp_title               10039\n",
       "emp_length               8228\n",
       "home_ownership              0\n",
       "annual_inc                  0\n",
       "verification_status         0\n",
       "issue_d                     0\n",
       "loan_status                 0\n",
       "purpose                     0\n",
       "title                     621\n",
       "dti                         0\n",
       "earliest_cr_line            0\n",
       "open_acc                    0\n",
       "pub_rec                     0\n",
       "revol_bal                   0\n",
       "revol_util                129\n",
       "total_acc                   0\n",
       "initial_list_status         0\n",
       "application_type            0\n",
       "mort_acc                13488\n",
       "pub_rec_bankruptcies      189\n",
       "address                     0\n",
       "loan_repaid                 0\n",
       "dtype: int64"
      ]
     },
     "execution_count": 182,
     "metadata": {},
     "output_type": "execute_result"
    }
   ],
   "source": [
    "df.isnull().sum()"
   ]
  },
  {
   "cell_type": "markdown",
   "id": "25cdc45b-c795-4abc-abe9-665e03ce1c57",
   "metadata": {},
   "source": [
    "**TASK: Convert this Series to be in term of percentage of the total DataFrame**"
   ]
  },
  {
   "cell_type": "code",
   "execution_count": 183,
   "id": "2e6483b4-9882-458d-986a-e265affe9d95",
   "metadata": {},
   "outputs": [
    {
     "data": {
      "text/plain": [
       "loan_amnt               0.000000\n",
       "term                    0.000000\n",
       "int_rate                0.000000\n",
       "installment             0.000000\n",
       "grade                   0.000000\n",
       "sub_grade               0.000000\n",
       "emp_title               6.490467\n",
       "emp_length              5.319610\n",
       "home_ownership          0.000000\n",
       "annual_inc              0.000000\n",
       "verification_status     0.000000\n",
       "issue_d                 0.000000\n",
       "loan_status             0.000000\n",
       "purpose                 0.000000\n",
       "title                   0.401492\n",
       "dti                     0.000000\n",
       "earliest_cr_line        0.000000\n",
       "open_acc                0.000000\n",
       "pub_rec                 0.000000\n",
       "revol_bal               0.000000\n",
       "revol_util              0.083402\n",
       "total_acc               0.000000\n",
       "initial_list_status     0.000000\n",
       "application_type        0.000000\n",
       "mort_acc                8.720333\n",
       "pub_rec_bankruptcies    0.122193\n",
       "address                 0.000000\n",
       "loan_repaid             0.000000\n",
       "dtype: float64"
      ]
     },
     "execution_count": 183,
     "metadata": {},
     "output_type": "execute_result"
    }
   ],
   "source": [
    "100* df.isnull().sum()/len(df)"
   ]
  },
  {
   "cell_type": "markdown",
   "id": "ce91bc57-a881-4d51-9e8e-5b6f7bdb0b43",
   "metadata": {},
   "source": [
    "**TASK: Let's examine emp_title and emp_length to see whether it will be okay to drop them. Print out their feature information using the feat_info() function from the top of this notebook**"
   ]
  },
  {
   "cell_type": "code",
   "execution_count": 184,
   "id": "14585cff-919a-4d58-b3ab-c7dd16a68e8f",
   "metadata": {},
   "outputs": [
    {
     "name": "stdout",
     "output_type": "stream",
     "text": [
      "The job title supplied by the Borrower when applying for the loan.*\n",
      "\n",
      "\n",
      "Employment length in years. Possible values are between 0 and 10 where 0 means less than one year and 10 means ten or more years. \n"
     ]
    }
   ],
   "source": [
    "feat_info('emp_title')\n",
    "print('\\n')\n",
    "feat_info('emp_length')"
   ]
  },
  {
   "cell_type": "markdown",
   "id": "174bc366-bb9b-49df-b84e-b1cd2a5b2155",
   "metadata": {},
   "source": [
    "**TASK: find, how many unique employment job titles are there?**"
   ]
  },
  {
   "cell_type": "code",
   "execution_count": 185,
   "id": "cfef69ee-6be5-4975-9297-b21c62e518f3",
   "metadata": {},
   "outputs": [
    {
     "data": {
      "text/plain": [
       "76358"
      ]
     },
     "execution_count": 185,
     "metadata": {},
     "output_type": "execute_result"
    }
   ],
   "source": [
    "df['emp_title'].nunique()"
   ]
  },
  {
   "cell_type": "code",
   "execution_count": 186,
   "id": "b2b63a16-b232-4c12-8737-1f8746c79aea",
   "metadata": {},
   "outputs": [
    {
     "data": {
      "text/plain": [
       "Manager                         1776\n",
       "Teacher                         1742\n",
       "Supervisor                       760\n",
       "RN                               750\n",
       "Registered Nurse                 740\n",
       "                                ... \n",
       "Regional Security Specialist       1\n",
       "Senior Production Specialist       1\n",
       "US BORAX                           1\n",
       "Career Advisor                     1\n",
       "New Applications Specialist        1\n",
       "Name: emp_title, Length: 76358, dtype: int64"
      ]
     },
     "execution_count": 186,
     "metadata": {},
     "output_type": "execute_result"
    }
   ],
   "source": [
    "df['emp_title'].value_counts()"
   ]
  },
  {
   "cell_type": "markdown",
   "id": "448c71e4-f305-44aa-91ca-cd02f604be9f",
   "metadata": {},
   "source": [
    "**There are many job title, it is not too useful convert numeric values so this column  will drop from this dataset**"
   ]
  },
  {
   "cell_type": "code",
   "execution_count": 187,
   "id": "76b31cd5-6af7-4f36-9783-710b8e2e81f0",
   "metadata": {},
   "outputs": [],
   "source": [
    "df = df.drop('emp_title',axis=1)"
   ]
  },
  {
   "cell_type": "markdown",
   "id": "77c0d5aa-6fa2-45e5-88dd-969e52226aa3",
   "metadata": {},
   "source": [
    "**TASK: Create a count plot of the emp_length feature column**"
   ]
  },
  {
   "cell_type": "code",
   "execution_count": 188,
   "id": "3d76734b-5d9a-46ba-9e58-d85059ad01f9",
   "metadata": {},
   "outputs": [
    {
     "data": {
      "text/plain": [
       "['1 year',\n",
       " '10+ years',\n",
       " '2 years',\n",
       " '3 years',\n",
       " '4 years',\n",
       " '5 years',\n",
       " '6 years',\n",
       " '7 years',\n",
       " '8 years',\n",
       " '9 years',\n",
       " '< 1 year']"
      ]
     },
     "execution_count": 188,
     "metadata": {},
     "output_type": "execute_result"
    }
   ],
   "source": [
    "sorted(df['emp_length'].dropna().unique())"
   ]
  },
  {
   "cell_type": "code",
   "execution_count": 189,
   "id": "0beb31ac-395a-46c3-bd26-6df59386b581",
   "metadata": {},
   "outputs": [],
   "source": [
    "emp_length_order = [ '< 1 year',\n",
    "                      '1 year',\n",
    "                     '2 years',\n",
    "                     '3 years',\n",
    "                     '4 years',\n",
    "                     '5 years',\n",
    "                     '6 years',\n",
    "                     '7 years',\n",
    "                     '8 years',\n",
    "                     '9 years',\n",
    "                     '10+ years']"
   ]
  },
  {
   "cell_type": "code",
   "execution_count": 190,
   "id": "0279d8d6-6259-451c-83ee-df1c563b39de",
   "metadata": {},
   "outputs": [
    {
     "data": {
      "image/png": "[encoded data removed]",
      "text/plain": [
       "<Figure size 864x288 with 1 Axes>"
      ]
     },
     "metadata": {
      "needs_background": "light"
     },
     "output_type": "display_data"
    }
   ],
   "source": [
    "plt.figure(figsize=(12,4))\n",
    "sns.countplot(x='emp_length',data=df,order=emp_length_order,palette = \"magma\",hue='loan_status');"
   ]
  },
  {
   "cell_type": "markdown",
   "id": "b3162b5d-db48-41f5-8564-1f7ab8ccbbbd",
   "metadata": {},
   "source": [
    "**This still doesn't really inform us if there is a strong relationship between employment length and being charged off, what we want is the percentage of charge offs per category. Essentially informing us what percent of people per employment category didn't pay back their loan. There are a multitude of ways to create this Series.**"
   ]
  },
  {
   "cell_type": "code",
   "execution_count": 191,
   "id": "1983e0c9-0e74-43a6-bf2f-5e50f4c864af",
   "metadata": {},
   "outputs": [],
   "source": [
    "emp_co = df[df['loan_status']==\"Charged Off\"].groupby(\"emp_length\").count()['loan_status']"
   ]
  },
  {
   "cell_type": "code",
   "execution_count": 192,
   "id": "d9eb904a-8a4f-4c3d-adf0-eab1d24497ea",
   "metadata": {},
   "outputs": [],
   "source": [
    "emp_fp = df[df['loan_status']==\"Fully Paid\"].groupby(\"emp_length\").count()['loan_status']"
   ]
  },
  {
   "cell_type": "code",
   "execution_count": 193,
   "id": "0346ee54-2db4-4d00-8283-db948b6bbbb6",
   "metadata": {},
   "outputs": [],
   "source": [
    "emp_len = emp_co/emp_fp"
   ]
  },
  {
   "cell_type": "code",
   "execution_count": 194,
   "id": "3fbaedab-e77f-463e-9a98-50f1f4c80ac9",
   "metadata": {},
   "outputs": [
    {
     "data": {
      "text/plain": [
       "emp_length\n",
       "1 year       1.046497\n",
       "10+ years    0.932067\n",
       "2 years      0.995829\n",
       "3 years      1.014440\n",
       "4 years      0.964420\n",
       "5 years      0.972684\n",
       "6 years      0.957271\n",
       "7 years      1.010214\n",
       "8 years      1.053370\n",
       "9 years      1.004910\n",
       "< 1 year     1.076784\n",
       "Name: loan_status, dtype: float64"
      ]
     },
     "execution_count": 194,
     "metadata": {},
     "output_type": "execute_result"
    }
   ],
   "source": [
    "emp_len"
   ]
  },
  {
   "cell_type": "code",
   "execution_count": 195,
   "id": "2b34086d-147b-44cb-8bc0-fa9ef24e2a78",
   "metadata": {},
   "outputs": [
    {
     "data": {
      "image/png": "[encoded data removed]",
      "text/plain": [
       "<Figure size 864x288 with 1 Axes>"
      ]
     },
     "metadata": {
      "needs_background": "light"
     },
     "output_type": "display_data"
    }
   ],
   "source": [
    "plt.figure(figsize=(12,4))\n",
    "emp_len.plot(kind='bar', color='red');"
   ]
  },
  {
   "cell_type": "markdown",
   "id": "50a51c57-eacd-4e7c-b0c2-14f7acdb2220",
   "metadata": {},
   "source": [
    "**Charge off rates are extremely similar across all employment lengths. let's go ahead and drop the emp length column**"
   ]
  },
  {
   "cell_type": "code",
   "execution_count": 196,
   "id": "c006f9b5-74f7-44b0-a15b-bf7f1f2eb601",
   "metadata": {},
   "outputs": [],
   "source": [
    "df = df.drop('emp_length',axis=1)"
   ]
  },
  {
   "cell_type": "code",
   "execution_count": 197,
   "id": "341fa249-c7d6-482f-84f3-99078d79cb2b",
   "metadata": {},
   "outputs": [
    {
     "data": {
      "text/plain": [
       "loan_amnt                   0\n",
       "term                        0\n",
       "int_rate                    0\n",
       "installment                 0\n",
       "grade                       0\n",
       "sub_grade                   0\n",
       "home_ownership              0\n",
       "annual_inc                  0\n",
       "verification_status         0\n",
       "issue_d                     0\n",
       "loan_status                 0\n",
       "purpose                     0\n",
       "title                     621\n",
       "dti                         0\n",
       "earliest_cr_line            0\n",
       "open_acc                    0\n",
       "pub_rec                     0\n",
       "revol_bal                   0\n",
       "revol_util                129\n",
       "total_acc                   0\n",
       "initial_list_status         0\n",
       "application_type            0\n",
       "mort_acc                13488\n",
       "pub_rec_bankruptcies      189\n",
       "address                     0\n",
       "loan_repaid                 0\n",
       "dtype: int64"
      ]
     },
     "execution_count": 197,
     "metadata": {},
     "output_type": "execute_result"
    }
   ],
   "source": [
    "## Lets check again missing values\n",
    "df.isnull().sum()"
   ]
  },
  {
   "cell_type": "markdown",
   "id": "dd95cf8a-1337-45f1-a776-0c812f75f754",
   "metadata": {},
   "source": [
    "**TASK: Review the title column vs the purpose column. Is this repeated information?**"
   ]
  },
  {
   "cell_type": "code",
   "execution_count": 198,
   "id": "67be6b21-bcd2-479b-b43f-e7293de4eb8e",
   "metadata": {},
   "outputs": [
    {
     "data": {
      "text/plain": [
       "0                                   Other\n",
       "1                      Debt consolidation\n",
       "2                           Starting over\n",
       "3    Personal loan for debt consolidation\n",
       "4                 Personal Debt Free Loan\n",
       "5                          Business start\n",
       "6                                 LowRate\n",
       "7                 Credit card refinancing\n",
       "8                      Debt consolidation\n",
       "9                      Debt consolidation\n",
       "Name: title, dtype: object"
      ]
     },
     "execution_count": 198,
     "metadata": {},
     "output_type": "execute_result"
    }
   ],
   "source": [
    "df['title'].head(10)"
   ]
  },
  {
   "cell_type": "code",
   "execution_count": 199,
   "id": "4d53b43a-7a3f-4c4e-ab1e-6bd7bbee3b0e",
   "metadata": {},
   "outputs": [
    {
     "data": {
      "text/plain": [
       "0                 other\n",
       "1    debt_consolidation\n",
       "2           credit_card\n",
       "3    debt_consolidation\n",
       "4    debt_consolidation\n",
       "5        small_business\n",
       "6    debt_consolidation\n",
       "7           credit_card\n",
       "8    debt_consolidation\n",
       "9    debt_consolidation\n",
       "Name: purpose, dtype: object"
      ]
     },
     "execution_count": 199,
     "metadata": {},
     "output_type": "execute_result"
    }
   ],
   "source": [
    "df['purpose'].head(10)"
   ]
  },
  {
   "cell_type": "markdown",
   "id": "7e4c4d96-b8ba-4a47-8a62-ba3320708b85",
   "metadata": {},
   "source": [
    "**TASK: The title column is simply a string subcategory/description of the purpose column. let's go ahead and drop the title column**\n"
   ]
  },
  {
   "cell_type": "code",
   "execution_count": 200,
   "id": "49eb694c-dc89-4e3f-92d6-1d45809cc44d",
   "metadata": {},
   "outputs": [],
   "source": [
    "df = df.drop('title',axis=1)"
   ]
  },
  {
   "cell_type": "markdown",
   "id": "806fe1db-2d7d-41a5-9225-7a0f454315fa",
   "metadata": {},
   "source": [
    "**TASK: Find out what the mort_acc feature represents**"
   ]
  },
  {
   "cell_type": "code",
   "execution_count": 201,
   "id": "230d8952-8906-4820-b398-1bc8bebb381f",
   "metadata": {},
   "outputs": [
    {
     "name": "stdout",
     "output_type": "stream",
     "text": [
      "Number of mortgage accounts.\n"
     ]
    }
   ],
   "source": [
    "feat_info('mort_acc')"
   ]
  },
  {
   "cell_type": "code",
   "execution_count": 202,
   "id": "5defc0aa-d283-427b-ac94-6f2f95ad84f2",
   "metadata": {},
   "outputs": [
    {
     "data": {
      "text/plain": [
       "0.0     58733\n",
       "1.0     23889\n",
       "2.0     19056\n",
       "3.0     14128\n",
       "4.0     10277\n",
       "5.0      6569\n",
       "6.0      4037\n",
       "7.0      2150\n",
       "8.0      1111\n",
       "9.0       559\n",
       "10.0      286\n",
       "11.0      156\n",
       "12.0       84\n",
       "13.0       44\n",
       "14.0       33\n",
       "15.0       22\n",
       "16.0       15\n",
       "17.0        7\n",
       "20.0        6\n",
       "19.0        5\n",
       "18.0        5\n",
       "22.0        4\n",
       "24.0        4\n",
       "21.0        2\n",
       "25.0        1\n",
       "23.0        1\n",
       "27.0        1\n",
       "Name: mort_acc, dtype: int64"
      ]
     },
     "execution_count": 202,
     "metadata": {},
     "output_type": "execute_result"
    }
   ],
   "source": [
    "df['mort_acc'].value_counts()"
   ]
  },
  {
   "cell_type": "markdown",
   "id": "176c6415-92bd-4db4-a8a9-acbfbe695856",
   "metadata": {},
   "source": [
    "** Let's review the other columsn to see which most highly correlates to mort_acc**"
   ]
  },
  {
   "cell_type": "code",
   "execution_count": 203,
   "id": "0616822c-2f8a-4643-8c83-26b126dd0dde",
   "metadata": {},
   "outputs": [
    {
     "data": {
      "text/plain": [
       "int_rate               -0.082758\n",
       "dti                    -0.017690\n",
       "revol_util              0.008134\n",
       "pub_rec                 0.009296\n",
       "pub_rec_bankruptcies    0.031512\n",
       "loan_repaid             0.095423\n",
       "open_acc                0.110556\n",
       "installment             0.191798\n",
       "revol_bal               0.194046\n",
       "annual_inc              0.213982\n",
       "loan_amnt               0.220695\n",
       "total_acc               0.377579\n",
       "mort_acc                1.000000\n",
       "Name: mort_acc, dtype: float64"
      ]
     },
     "execution_count": 203,
     "metadata": {},
     "output_type": "execute_result"
    }
   ],
   "source": [
    "df.corr()['mort_acc'].sort_values()"
   ]
  },
  {
   "cell_type": "markdown",
   "id": "8c5d9f29-8c26-46e0-9f97-93c754486595",
   "metadata": {},
   "source": [
    "**TASK: Let's fill in the missing mort_acc values based on their total_acc value.**"
   ]
  },
  {
   "cell_type": "code",
   "execution_count": 204,
   "id": "7df0b383-945f-4d84-83eb-7e39b918b2c3",
   "metadata": {},
   "outputs": [],
   "source": [
    "total_acc_avg = df.groupby('total_acc').mean()['mort_acc']"
   ]
  },
  {
   "cell_type": "code",
   "execution_count": 205,
   "id": "5a8fe176-e9ca-478b-8929-58a2e2f22ec8",
   "metadata": {},
   "outputs": [],
   "source": [
    "def fill_mort_acc(total_acc,mort_acc):\n",
    "    if np.isnan(mort_acc):\n",
    "        return total_acc_avg[total_acc]\n",
    "    else:\n",
    "        return mort_acc"
   ]
  },
  {
   "cell_type": "code",
   "execution_count": 206,
   "id": "d0626379-d262-43f1-9dc2-f12a9eef7c13",
   "metadata": {},
   "outputs": [],
   "source": [
    "df['mort_acc'] = df.apply(lambda x: fill_mort_acc(x['total_acc'], x['mort_acc']), axis=1)"
   ]
  },
  {
   "cell_type": "code",
   "execution_count": 207,
   "id": "f6eab0cb-1a09-438f-8462-0eb1c5826025",
   "metadata": {},
   "outputs": [
    {
     "data": {
      "text/plain": [
       "loan_amnt                 0\n",
       "term                      0\n",
       "int_rate                  0\n",
       "installment               0\n",
       "grade                     0\n",
       "sub_grade                 0\n",
       "home_ownership            0\n",
       "annual_inc                0\n",
       "verification_status       0\n",
       "issue_d                   0\n",
       "loan_status               0\n",
       "purpose                   0\n",
       "dti                       0\n",
       "earliest_cr_line          0\n",
       "open_acc                  0\n",
       "pub_rec                   0\n",
       "revol_bal                 0\n",
       "revol_util              129\n",
       "total_acc                 0\n",
       "initial_list_status       0\n",
       "application_type          0\n",
       "mort_acc                  0\n",
       "pub_rec_bankruptcies    189\n",
       "address                   0\n",
       "loan_repaid               0\n",
       "dtype: int64"
      ]
     },
     "execution_count": 207,
     "metadata": {},
     "output_type": "execute_result"
    }
   ],
   "source": [
    "df.isnull().sum()"
   ]
  },
  {
   "cell_type": "markdown",
   "id": "56e08c21-f69c-43fa-999f-9c9d0f5a4610",
   "metadata": {},
   "source": [
    "**TASK: revol_util and the pub_rec_bankruptcies have missing data points, but they account for less than 0.5% of the total data. Go ahead and remove the rows that are missing those values in those columns with dropna().**"
   ]
  },
  {
   "cell_type": "code",
   "execution_count": 208,
   "id": "5f66b3f6-6dbf-4c0d-b473-cf2def570d1d",
   "metadata": {},
   "outputs": [],
   "source": [
    "df = df.dropna()"
   ]
  },
  {
   "cell_type": "code",
   "execution_count": 209,
   "id": "8bd05691-7d7e-4178-8ede-06a60a9df08f",
   "metadata": {},
   "outputs": [
    {
     "data": {
      "text/plain": [
       "loan_amnt               0\n",
       "term                    0\n",
       "int_rate                0\n",
       "installment             0\n",
       "grade                   0\n",
       "sub_grade               0\n",
       "home_ownership          0\n",
       "annual_inc              0\n",
       "verification_status     0\n",
       "issue_d                 0\n",
       "loan_status             0\n",
       "purpose                 0\n",
       "dti                     0\n",
       "earliest_cr_line        0\n",
       "open_acc                0\n",
       "pub_rec                 0\n",
       "revol_bal               0\n",
       "revol_util              0\n",
       "total_acc               0\n",
       "initial_list_status     0\n",
       "application_type        0\n",
       "mort_acc                0\n",
       "pub_rec_bankruptcies    0\n",
       "address                 0\n",
       "loan_repaid             0\n",
       "dtype: int64"
      ]
     },
     "execution_count": 209,
     "metadata": {},
     "output_type": "execute_result"
    }
   ],
   "source": [
    "df.isnull().sum()"
   ]
  },
  {
   "cell_type": "markdown",
   "id": "6a44bc8e-4846-49e7-a16f-f98f7dc5292e",
   "metadata": {},
   "source": [
    "## b) Categorical Variables and Dummy Variables"
   ]
  },
  {
   "cell_type": "markdown",
   "id": "cb19ce1f-0f47-4a6d-a991-3fafff2e5c04",
   "metadata": {},
   "source": [
    "**Now I  just need to deal with the string values due to the categorical columns.**\n",
    "\n",
    "**TASK: List all the columns that are currently non-numeric.**"
   ]
  },
  {
   "cell_type": "code",
   "execution_count": 210,
   "id": "842ff544-1973-4a52-aacd-882e2fd38565",
   "metadata": {},
   "outputs": [
    {
     "data": {
      "text/plain": [
       "Index(['term', 'grade', 'sub_grade', 'home_ownership', 'verification_status',\n",
       "       'issue_d', 'loan_status', 'purpose', 'earliest_cr_line',\n",
       "       'initial_list_status', 'application_type', 'address'],\n",
       "      dtype='object')"
      ]
     },
     "execution_count": 210,
     "metadata": {},
     "output_type": "execute_result"
    }
   ],
   "source": [
    "df.select_dtypes(['object']).columns"
   ]
  },
  {
   "cell_type": "markdown",
   "id": "c4b68dce-c187-46df-9c14-11ee35e9fbd1",
   "metadata": {},
   "source": [
    "**Let's now go through all the string features to see what I should do with them.**\n",
    "\n",
    "---\n",
    "\n",
    "\n",
    "### term feature\n",
    "\n",
    "**TASK: Convert the term feature into either a 36 or 60 integer numeric data type using .apply() or .map().**"
   ]
  },
  {
   "cell_type": "code",
   "execution_count": 211,
   "id": "75c3db53-a30a-4676-8164-617dd473ac18",
   "metadata": {},
   "outputs": [
    {
     "data": {
      "text/plain": [
       " 36 months    108666\n",
       " 60 months     45689\n",
       "Name: term, dtype: int64"
      ]
     },
     "execution_count": 211,
     "metadata": {},
     "output_type": "execute_result"
    }
   ],
   "source": [
    "df['term'].value_counts()"
   ]
  },
  {
   "cell_type": "code",
   "execution_count": 212,
   "id": "26f29df2-3e56-4dbc-9a2f-67fefd3042b0",
   "metadata": {},
   "outputs": [],
   "source": [
    "# use apply function\n",
    "df['term']=df['term'].apply(lambda term: int(term[:3]))"
   ]
  },
  {
   "cell_type": "code",
   "execution_count": 213,
   "id": "01c3e555-0b06-4387-82ab-6dc6110a31db",
   "metadata": {},
   "outputs": [
    {
     "data": {
      "text/plain": [
       "0    60\n",
       "1    60\n",
       "2    60\n",
       "3    60\n",
       "4    36\n",
       "Name: term, dtype: int64"
      ]
     },
     "execution_count": 213,
     "metadata": {},
     "output_type": "execute_result"
    }
   ],
   "source": [
    "df['term'].head()"
   ]
  },
  {
   "cell_type": "markdown",
   "id": "2da821fc-d3b8-4b28-8e4e-e4f2674263fb",
   "metadata": {},
   "source": [
    "### grade feature\n",
    "\n",
    "**TASK: grade is part of sub_grade, so just drop the grade feature.**"
   ]
  },
  {
   "cell_type": "code",
   "execution_count": 214,
   "id": "402924f4-1d79-4555-af64-6bb0a62b5f61",
   "metadata": {},
   "outputs": [],
   "source": [
    "df=df.drop('grade', axis=1)"
   ]
  },
  {
   "cell_type": "markdown",
   "id": "9b433570-2d88-4656-afe0-6a1a260f93ab",
   "metadata": {},
   "source": [
    "**TASK: Convert the subgrade into dummy variables. Then concatenate these new columns to the original dataframe. Remember to drop the original subgrade column and to add drop_first=True to your get_dummies call.**"
   ]
  },
  {
   "cell_type": "code",
   "execution_count": 215,
   "id": "1eb3dee4-6b5b-45a8-9b43-1ec5a679c410",
   "metadata": {},
   "outputs": [],
   "source": [
    "subgrade_dummies = pd.get_dummies(df['sub_grade'],drop_first=True)"
   ]
  },
  {
   "cell_type": "code",
   "execution_count": 216,
   "id": "5d63e728-587d-4f3b-a835-5c45f9f01dfd",
   "metadata": {},
   "outputs": [],
   "source": [
    "df = pd.concat([df.drop('sub_grade',axis=1),subgrade_dummies],axis=1)"
   ]
  },
  {
   "cell_type": "code",
   "execution_count": 217,
   "id": "ef58a029-c338-4545-bff3-f07568d901ac",
   "metadata": {},
   "outputs": [
    {
     "data": {
      "text/plain": [
       "Index(['loan_amnt', 'term', 'int_rate', 'installment', 'home_ownership',\n",
       "       'annual_inc', 'verification_status', 'issue_d', 'loan_status',\n",
       "       'purpose', 'dti', 'earliest_cr_line', 'open_acc', 'pub_rec',\n",
       "       'revol_bal', 'revol_util', 'total_acc', 'initial_list_status',\n",
       "       'application_type', 'mort_acc', 'pub_rec_bankruptcies', 'address',\n",
       "       'loan_repaid', 'A2', 'A3', 'A4', 'A5', 'B1', 'B2', 'B3', 'B4', 'B5',\n",
       "       'C1', 'C2', 'C3', 'C4', 'C5', 'D1', 'D2', 'D3', 'D4', 'D5', 'E1', 'E2',\n",
       "       'E3', 'E4', 'E5', 'F1', 'F2', 'F3', 'F4', 'F5', 'G1', 'G2', 'G3', 'G4',\n",
       "       'G5'],\n",
       "      dtype='object')"
      ]
     },
     "execution_count": 217,
     "metadata": {},
     "output_type": "execute_result"
    }
   ],
   "source": [
    "#check  columns to how look like converting dummy variables \n",
    "df.columns"
   ]
  },
  {
   "cell_type": "code",
   "execution_count": 218,
   "id": "b7d6f209-ea55-42af-9027-20274eb54e2f",
   "metadata": {},
   "outputs": [
    {
     "data": {
      "text/plain": [
       "Index(['home_ownership', 'verification_status', 'issue_d', 'loan_status',\n",
       "       'purpose', 'earliest_cr_line', 'initial_list_status',\n",
       "       'application_type', 'address'],\n",
       "      dtype='object')"
      ]
     },
     "execution_count": 218,
     "metadata": {},
     "output_type": "execute_result"
    }
   ],
   "source": [
    "df.select_dtypes(['object']).columns"
   ]
  },
  {
   "cell_type": "markdown",
   "id": "1cbc7024-6bf3-40d2-aeab-f1c1037e349d",
   "metadata": {},
   "source": [
    "### verification_status, application_type,initial_list_status,purpose \n",
    "**TASK: Convert these columns: ['verification_status', 'application_type','initial_list_status','purpose'] into dummy variables and concatenate them with the original dataframe. Remember to set drop_first=True and to drop the original columns.**"
   ]
  },
  {
   "cell_type": "code",
   "execution_count": 219,
   "id": "4f118193-4657-415f-9491-e75d6c8e84b9",
   "metadata": {},
   "outputs": [],
   "source": [
    "dummies = pd.get_dummies(df[['verification_status', 'application_type','initial_list_status','purpose' ]],drop_first=True)\n",
    "df = df.drop(['verification_status', 'application_type','initial_list_status','purpose'],axis=1)\n",
    "df = pd.concat([df,dummies],axis=1)"
   ]
  },
  {
   "cell_type": "markdown",
   "id": "b4b61900-784b-446e-a795-e407fe4640e5",
   "metadata": {},
   "source": [
    "### home_ownership\n",
    "**TASK:Review the value_counts for the home_ownership column.**"
   ]
  },
  {
   "cell_type": "code",
   "execution_count": 220,
   "id": "4c3a5f16-801e-4fe6-b9cc-fe03d27f72ea",
   "metadata": {},
   "outputs": [
    {
     "data": {
      "text/plain": [
       "MORTGAGE    73364\n",
       "RENT        65845\n",
       "OWN         15085\n",
       "OTHER          45\n",
       "NONE           14\n",
       "ANY             2\n",
       "Name: home_ownership, dtype: int64"
      ]
     },
     "execution_count": 220,
     "metadata": {},
     "output_type": "execute_result"
    }
   ],
   "source": [
    "df['home_ownership'].value_counts()"
   ]
  },
  {
   "cell_type": "code",
   "execution_count": 221,
   "id": "b9ccaae8-d789-4634-810e-69b5685468af",
   "metadata": {},
   "outputs": [],
   "source": [
    "df['home_ownership']=df['home_ownership'].replace(['NONE', 'ANY'], 'OTHER')\n",
    "\n",
    "dummies = pd.get_dummies(df['home_ownership'],drop_first=True)\n",
    "df = df.drop('home_ownership',axis=1)\n",
    "df = pd.concat([df,dummies],axis=1)"
   ]
  },
  {
   "cell_type": "markdown",
   "id": "3a5e510e-2f0e-4088-b6cf-17f437873888",
   "metadata": {},
   "source": [
    "### address\n",
    "**TASK: Let's feature engineer a zip code column from the address in the data set. Create a column called 'zip_code' that extracts the zip code from the address column.**"
   ]
  },
  {
   "cell_type": "code",
   "execution_count": 222,
   "id": "54e0c731-bdb2-44ff-8045-efb2952314d3",
   "metadata": {},
   "outputs": [],
   "source": [
    "df['zip_code'] = df['address'].apply(lambda address:address[-5:])"
   ]
  },
  {
   "cell_type": "code",
   "execution_count": 223,
   "id": "fb9627b2-f723-41dc-b375-7d6a0676bb6c",
   "metadata": {},
   "outputs": [
    {
     "data": {
      "text/plain": [
       "0    11650\n",
       "1    11650\n",
       "2    30723\n",
       "3    30723\n",
       "4    11650\n",
       "Name: zip_code, dtype: object"
      ]
     },
     "execution_count": 223,
     "metadata": {},
     "output_type": "execute_result"
    }
   ],
   "source": [
    "df['zip_code'].head()"
   ]
  },
  {
   "cell_type": "markdown",
   "id": "1ca50ad6-5a8d-4ab3-9c2d-40ff4f4dabf9",
   "metadata": {},
   "source": [
    "**TASK: Now make this zip_code column into dummy variables using pandas. Concatenate the result and drop the original zip_code column along with dropping the address column.**"
   ]
  },
  {
   "cell_type": "code",
   "execution_count": 224,
   "id": "6392b2ee-0703-4e0b-9db4-b542afd035b9",
   "metadata": {},
   "outputs": [],
   "source": [
    "dummies = pd.get_dummies(df['zip_code'],drop_first=True)\n",
    "df = df.drop(['zip_code','address'],axis=1)\n",
    "df = pd.concat([df,dummies],axis=1)"
   ]
  },
  {
   "cell_type": "markdown",
   "id": "2039ab57-8870-4671-aafe-5492840a6811",
   "metadata": {},
   "source": [
    "### issue_d \n",
    "\n",
    "**TASK: This would be data leakage, I wouldn't know beforehand whether or not a loan would be issued when using my  model, so in theory  I wouldn't have an issue_date, drop this feature.**"
   ]
  },
  {
   "cell_type": "code",
   "execution_count": 225,
   "id": "054a3923-b080-4978-a495-84a30d32f4bc",
   "metadata": {},
   "outputs": [
    {
     "name": "stdout",
     "output_type": "stream",
     "text": [
      "The month which the loan was funded\n"
     ]
    }
   ],
   "source": [
    "feat_info('issue_d')"
   ]
  },
  {
   "cell_type": "code",
   "execution_count": 226,
   "id": "38ea53c5-adfd-404a-86e8-bef5a25d8a5f",
   "metadata": {},
   "outputs": [],
   "source": [
    "df = df.drop('issue_d',axis=1)"
   ]
  },
  {
   "cell_type": "markdown",
   "id": "448ba2aa-4cd8-46c8-a6e9-4e31de62c94e",
   "metadata": {},
   "source": [
    "### earliest_cr_line\n",
    "**TASK: This appears to be a historical time stamp feature. Extract the year from this feature using a .apply function, then convert it to a numeric feature. Set this new data to a feature column called 'earliest_cr_year'.Then drop the earliest_cr_line feature.**"
   ]
  },
  {
   "cell_type": "code",
   "execution_count": 227,
   "id": "29846123-319c-414c-8264-5394e3726d33",
   "metadata": {},
   "outputs": [],
   "source": [
    "df['earliest_cr_year'] = df['earliest_cr_line'].apply(lambda date:int(date[-4:]))\n",
    "df = df.drop('earliest_cr_line',axis=1)"
   ]
  },
  {
   "cell_type": "code",
   "execution_count": 228,
   "id": "60dd927c-5538-47e2-9b2a-70e476c7eb7b",
   "metadata": {},
   "outputs": [
    {
     "data": {
      "text/plain": [
       "Index(['loan_status'], dtype='object')"
      ]
     },
     "execution_count": 228,
     "metadata": {},
     "output_type": "execute_result"
    }
   ],
   "source": [
    "# check  object on dataset\n",
    "df.select_dtypes(['object']).columns"
   ]
  },
  {
   "cell_type": "markdown",
   "id": "c8dabde1-59ed-4094-b56e-99bf4d9035ab",
   "metadata": {},
   "source": [
    "**TASK: drop the load_status column I created earlier, since its a duplicate of the loan_repaid column. I will use the loan_repaid column since its already in 0s and 1s.**"
   ]
  },
  {
   "cell_type": "code",
   "execution_count": 229,
   "id": "19ce0037-9ba0-42b7-a100-e2235f70cece",
   "metadata": {},
   "outputs": [],
   "source": [
    "df = df.drop('loan_status',axis=1)"
   ]
  },
  {
   "cell_type": "code",
   "execution_count": 230,
   "id": "5f0a34a0-25b9-4ef6-b04e-7c479f5ad089",
   "metadata": {},
   "outputs": [
    {
     "data": {
      "text/html": [
       "<div>\n",
       "<style scoped>\n",
       "    .dataframe tbody tr th:only-of-type {\n",
       "        vertical-align: middle;\n",
       "    }\n",
       "\n",
       "    .dataframe tbody tr th {\n",
       "        vertical-align: top;\n",
       "    }\n",
       "\n",
       "    .dataframe thead th {\n",
       "        text-align: right;\n",
       "    }\n",
       "</style>\n",
       "<table border=\"1\" class=\"dataframe\">\n",
       "  <thead>\n",
       "    <tr style=\"text-align: right;\">\n",
       "      <th></th>\n",
       "      <th>loan_amnt</th>\n",
       "      <th>term</th>\n",
       "      <th>int_rate</th>\n",
       "      <th>installment</th>\n",
       "      <th>annual_inc</th>\n",
       "      <th>dti</th>\n",
       "      <th>open_acc</th>\n",
       "      <th>pub_rec</th>\n",
       "      <th>revol_bal</th>\n",
       "      <th>revol_util</th>\n",
       "      <th>...</th>\n",
       "      <th>05113</th>\n",
       "      <th>11650</th>\n",
       "      <th>22690</th>\n",
       "      <th>29597</th>\n",
       "      <th>30723</th>\n",
       "      <th>48052</th>\n",
       "      <th>70466</th>\n",
       "      <th>86630</th>\n",
       "      <th>93700</th>\n",
       "      <th>earliest_cr_year</th>\n",
       "    </tr>\n",
       "  </thead>\n",
       "  <tbody>\n",
       "    <tr>\n",
       "      <th>0</th>\n",
       "      <td>35000.0</td>\n",
       "      <td>60</td>\n",
       "      <td>25.80</td>\n",
       "      <td>1043.78</td>\n",
       "      <td>172500.0</td>\n",
       "      <td>13.47</td>\n",
       "      <td>8.0</td>\n",
       "      <td>1.0</td>\n",
       "      <td>147789.0</td>\n",
       "      <td>79.9</td>\n",
       "      <td>...</td>\n",
       "      <td>0</td>\n",
       "      <td>1</td>\n",
       "      <td>0</td>\n",
       "      <td>0</td>\n",
       "      <td>0</td>\n",
       "      <td>0</td>\n",
       "      <td>0</td>\n",
       "      <td>0</td>\n",
       "      <td>0</td>\n",
       "      <td>1992</td>\n",
       "    </tr>\n",
       "    <tr>\n",
       "      <th>1</th>\n",
       "      <td>16000.0</td>\n",
       "      <td>60</td>\n",
       "      <td>14.49</td>\n",
       "      <td>376.37</td>\n",
       "      <td>37000.0</td>\n",
       "      <td>9.86</td>\n",
       "      <td>9.0</td>\n",
       "      <td>1.0</td>\n",
       "      <td>8389.0</td>\n",
       "      <td>65.5</td>\n",
       "      <td>...</td>\n",
       "      <td>0</td>\n",
       "      <td>1</td>\n",
       "      <td>0</td>\n",
       "      <td>0</td>\n",
       "      <td>0</td>\n",
       "      <td>0</td>\n",
       "      <td>0</td>\n",
       "      <td>0</td>\n",
       "      <td>0</td>\n",
       "      <td>1999</td>\n",
       "    </tr>\n",
       "    <tr>\n",
       "      <th>2</th>\n",
       "      <td>35000.0</td>\n",
       "      <td>60</td>\n",
       "      <td>24.50</td>\n",
       "      <td>1017.07</td>\n",
       "      <td>120000.0</td>\n",
       "      <td>17.98</td>\n",
       "      <td>9.0</td>\n",
       "      <td>0.0</td>\n",
       "      <td>31307.0</td>\n",
       "      <td>76.0</td>\n",
       "      <td>...</td>\n",
       "      <td>0</td>\n",
       "      <td>0</td>\n",
       "      <td>0</td>\n",
       "      <td>0</td>\n",
       "      <td>1</td>\n",
       "      <td>0</td>\n",
       "      <td>0</td>\n",
       "      <td>0</td>\n",
       "      <td>0</td>\n",
       "      <td>2000</td>\n",
       "    </tr>\n",
       "    <tr>\n",
       "      <th>3</th>\n",
       "      <td>16800.0</td>\n",
       "      <td>60</td>\n",
       "      <td>12.99</td>\n",
       "      <td>382.17</td>\n",
       "      <td>93900.0</td>\n",
       "      <td>5.17</td>\n",
       "      <td>18.0</td>\n",
       "      <td>0.0</td>\n",
       "      <td>11911.0</td>\n",
       "      <td>24.4</td>\n",
       "      <td>...</td>\n",
       "      <td>0</td>\n",
       "      <td>0</td>\n",
       "      <td>0</td>\n",
       "      <td>0</td>\n",
       "      <td>1</td>\n",
       "      <td>0</td>\n",
       "      <td>0</td>\n",
       "      <td>0</td>\n",
       "      <td>0</td>\n",
       "      <td>1995</td>\n",
       "    </tr>\n",
       "    <tr>\n",
       "      <th>4</th>\n",
       "      <td>20050.0</td>\n",
       "      <td>36</td>\n",
       "      <td>18.49</td>\n",
       "      <td>729.80</td>\n",
       "      <td>47000.0</td>\n",
       "      <td>20.32</td>\n",
       "      <td>14.0</td>\n",
       "      <td>0.0</td>\n",
       "      <td>6263.0</td>\n",
       "      <td>51.8</td>\n",
       "      <td>...</td>\n",
       "      <td>0</td>\n",
       "      <td>1</td>\n",
       "      <td>0</td>\n",
       "      <td>0</td>\n",
       "      <td>0</td>\n",
       "      <td>0</td>\n",
       "      <td>0</td>\n",
       "      <td>0</td>\n",
       "      <td>0</td>\n",
       "      <td>2001</td>\n",
       "    </tr>\n",
       "  </tbody>\n",
       "</table>\n",
       "<p>5 rows × 79 columns</p>\n",
       "</div>"
      ],
      "text/plain": [
       "   loan_amnt  term  int_rate  installment  annual_inc    dti  open_acc  \\\n",
       "0    35000.0    60     25.80      1043.78    172500.0  13.47       8.0   \n",
       "1    16000.0    60     14.49       376.37     37000.0   9.86       9.0   \n",
       "2    35000.0    60     24.50      1017.07    120000.0  17.98       9.0   \n",
       "3    16800.0    60     12.99       382.17     93900.0   5.17      18.0   \n",
       "4    20050.0    36     18.49       729.80     47000.0  20.32      14.0   \n",
       "\n",
       "   pub_rec  revol_bal  revol_util  ...  05113  11650  22690  29597  30723  \\\n",
       "0      1.0   147789.0        79.9  ...      0      1      0      0      0   \n",
       "1      1.0     8389.0        65.5  ...      0      1      0      0      0   \n",
       "2      0.0    31307.0        76.0  ...      0      0      0      0      1   \n",
       "3      0.0    11911.0        24.4  ...      0      0      0      0      1   \n",
       "4      0.0     6263.0        51.8  ...      0      1      0      0      0   \n",
       "\n",
       "   48052  70466  86630  93700  earliest_cr_year  \n",
       "0      0      0      0      0              1992  \n",
       "1      0      0      0      0              1999  \n",
       "2      0      0      0      0              2000  \n",
       "3      0      0      0      0              1995  \n",
       "4      0      0      0      0              2001  \n",
       "\n",
       "[5 rows x 79 columns]"
      ]
     },
     "execution_count": 230,
     "metadata": {},
     "output_type": "execute_result"
    }
   ],
   "source": [
    "df.head()"
   ]
  },
  {
   "cell_type": "code",
   "execution_count": 231,
   "id": "49502b4d-b7e3-41f4-9950-b8664d771435",
   "metadata": {},
   "outputs": [
    {
     "name": "stdout",
     "output_type": "stream",
     "text": [
      "<class 'pandas.core.frame.DataFrame'>\n",
      "Int64Index: 154355 entries, 0 to 154672\n",
      "Data columns (total 79 columns):\n",
      " #   Column                               Non-Null Count   Dtype  \n",
      "---  ------                               --------------   -----  \n",
      " 0   loan_amnt                            154355 non-null  float64\n",
      " 1   term                                 154355 non-null  int64  \n",
      " 2   int_rate                             154355 non-null  float64\n",
      " 3   installment                          154355 non-null  float64\n",
      " 4   annual_inc                           154355 non-null  float64\n",
      " 5   dti                                  154355 non-null  float64\n",
      " 6   open_acc                             154355 non-null  float64\n",
      " 7   pub_rec                              154355 non-null  float64\n",
      " 8   revol_bal                            154355 non-null  float64\n",
      " 9   revol_util                           154355 non-null  float64\n",
      " 10  total_acc                            154355 non-null  float64\n",
      " 11  mort_acc                             154355 non-null  float64\n",
      " 12  pub_rec_bankruptcies                 154355 non-null  float64\n",
      " 13  loan_repaid                          154355 non-null  int64  \n",
      " 14  A2                                   154355 non-null  uint8  \n",
      " 15  A3                                   154355 non-null  uint8  \n",
      " 16  A4                                   154355 non-null  uint8  \n",
      " 17  A5                                   154355 non-null  uint8  \n",
      " 18  B1                                   154355 non-null  uint8  \n",
      " 19  B2                                   154355 non-null  uint8  \n",
      " 20  B3                                   154355 non-null  uint8  \n",
      " 21  B4                                   154355 non-null  uint8  \n",
      " 22  B5                                   154355 non-null  uint8  \n",
      " 23  C1                                   154355 non-null  uint8  \n",
      " 24  C2                                   154355 non-null  uint8  \n",
      " 25  C3                                   154355 non-null  uint8  \n",
      " 26  C4                                   154355 non-null  uint8  \n",
      " 27  C5                                   154355 non-null  uint8  \n",
      " 28  D1                                   154355 non-null  uint8  \n",
      " 29  D2                                   154355 non-null  uint8  \n",
      " 30  D3                                   154355 non-null  uint8  \n",
      " 31  D4                                   154355 non-null  uint8  \n",
      " 32  D5                                   154355 non-null  uint8  \n",
      " 33  E1                                   154355 non-null  uint8  \n",
      " 34  E2                                   154355 non-null  uint8  \n",
      " 35  E3                                   154355 non-null  uint8  \n",
      " 36  E4                                   154355 non-null  uint8  \n",
      " 37  E5                                   154355 non-null  uint8  \n",
      " 38  F1                                   154355 non-null  uint8  \n",
      " 39  F2                                   154355 non-null  uint8  \n",
      " 40  F3                                   154355 non-null  uint8  \n",
      " 41  F4                                   154355 non-null  uint8  \n",
      " 42  F5                                   154355 non-null  uint8  \n",
      " 43  G1                                   154355 non-null  uint8  \n",
      " 44  G2                                   154355 non-null  uint8  \n",
      " 45  G3                                   154355 non-null  uint8  \n",
      " 46  G4                                   154355 non-null  uint8  \n",
      " 47  G5                                   154355 non-null  uint8  \n",
      " 48  verification_status_Source Verified  154355 non-null  uint8  \n",
      " 49  verification_status_Verified         154355 non-null  uint8  \n",
      " 50  application_type_INDIVIDUAL          154355 non-null  uint8  \n",
      " 51  application_type_JOINT               154355 non-null  uint8  \n",
      " 52  initial_list_status_w                154355 non-null  uint8  \n",
      " 53  purpose_credit_card                  154355 non-null  uint8  \n",
      " 54  purpose_debt_consolidation           154355 non-null  uint8  \n",
      " 55  purpose_educational                  154355 non-null  uint8  \n",
      " 56  purpose_home_improvement             154355 non-null  uint8  \n",
      " 57  purpose_house                        154355 non-null  uint8  \n",
      " 58  purpose_major_purchase               154355 non-null  uint8  \n",
      " 59  purpose_medical                      154355 non-null  uint8  \n",
      " 60  purpose_moving                       154355 non-null  uint8  \n",
      " 61  purpose_other                        154355 non-null  uint8  \n",
      " 62  purpose_renewable_energy             154355 non-null  uint8  \n",
      " 63  purpose_small_business               154355 non-null  uint8  \n",
      " 64  purpose_vacation                     154355 non-null  uint8  \n",
      " 65  purpose_wedding                      154355 non-null  uint8  \n",
      " 66  OTHER                                154355 non-null  uint8  \n",
      " 67  OWN                                  154355 non-null  uint8  \n",
      " 68  RENT                                 154355 non-null  uint8  \n",
      " 69  05113                                154355 non-null  uint8  \n",
      " 70  11650                                154355 non-null  uint8  \n",
      " 71  22690                                154355 non-null  uint8  \n",
      " 72  29597                                154355 non-null  uint8  \n",
      " 73  30723                                154355 non-null  uint8  \n",
      " 74  48052                                154355 non-null  uint8  \n",
      " 75  70466                                154355 non-null  uint8  \n",
      " 76  86630                                154355 non-null  uint8  \n",
      " 77  93700                                154355 non-null  uint8  \n",
      " 78  earliest_cr_year                     154355 non-null  int64  \n",
      "dtypes: float64(12), int64(3), uint8(64)\n",
      "memory usage: 28.3 MB\n"
     ]
    }
   ],
   "source": [
    "df.info()"
   ]
  },
  {
   "cell_type": "markdown",
   "id": "cbeaf55a-4584-4e95-b6b3-962917b571d3",
   "metadata": {},
   "source": [
    "# Section 3 Creating the Model"
   ]
  },
  {
   "cell_type": "markdown",
   "id": "46f099ca-8d85-4817-9052-c4b36ffe0db2",
   "metadata": {},
   "source": [
    "## Splitting data train and test"
   ]
  },
  {
   "cell_type": "markdown",
   "id": "5b88c6aa-2ab0-4710-8e1f-c8ecdeab7a58",
   "metadata": {},
   "source": [
    "**TASK: Set X and y variables to the .values of the features and label.**"
   ]
  },
  {
   "cell_type": "code",
   "execution_count": 232,
   "id": "7fe7c496-1511-44ff-a94c-8267715d3e64",
   "metadata": {},
   "outputs": [],
   "source": [
    "X = df.drop('loan_repaid',axis=1).values\n",
    "y = df['loan_repaid'].values"
   ]
  },
  {
   "cell_type": "markdown",
   "id": "63c3b006-cc18-4ec4-bf5b-07637d746eed",
   "metadata": {},
   "source": [
    "**TASK: Perform a train/test split with test_size=0.25 and a random_state of 101.**"
   ]
  },
  {
   "cell_type": "code",
   "execution_count": 233,
   "id": "da7d18e2-4441-4b90-ae59-ef9bdc156527",
   "metadata": {},
   "outputs": [],
   "source": [
    "X_train, X_test, y_train, y_test = train_test_split(X, y, test_size=0.25, random_state=101)\n",
    "\n"
   ]
  },
  {
   "cell_type": "code",
   "execution_count": 234,
   "id": "b3e590c1-1fd9-4c52-b757-a3bcbe28c202",
   "metadata": {},
   "outputs": [
    {
     "data": {
      "text/plain": [
       "115766"
      ]
     },
     "execution_count": 234,
     "metadata": {},
     "output_type": "execute_result"
    }
   ],
   "source": [
    "len(X_train)"
   ]
  },
  {
   "cell_type": "code",
   "execution_count": 235,
   "id": "38d9c9da-b61a-4b5b-a906-617054449768",
   "metadata": {},
   "outputs": [
    {
     "data": {
      "text/plain": [
       "38589"
      ]
     },
     "execution_count": 235,
     "metadata": {},
     "output_type": "execute_result"
    }
   ],
   "source": [
    "len(X_test)"
   ]
  },
  {
   "cell_type": "markdown",
   "id": "1e694f31-0622-408d-86f7-d223bea8e569",
   "metadata": {},
   "source": [
    "## Normalizing the Data\n",
    "\n",
    "**TASK: Use a MinMaxScaler to normalize the feature data X_train and X_test.**"
   ]
  },
  {
   "cell_type": "code",
   "execution_count": 236,
   "id": "87ca46b6-bc2c-407d-b50a-300aa7db0a07",
   "metadata": {},
   "outputs": [],
   "source": [
    "scaler = MinMaxScaler()\n"
   ]
  },
  {
   "cell_type": "code",
   "execution_count": 237,
   "id": "a63e6c69-48ae-45cf-b5cc-35a8024063b8",
   "metadata": {},
   "outputs": [],
   "source": [
    "X_train = scaler.fit_transform(X_train)"
   ]
  },
  {
   "cell_type": "code",
   "execution_count": 238,
   "id": "9395bfcf-0759-4208-9fc9-6a837cbd00fc",
   "metadata": {},
   "outputs": [],
   "source": [
    "X_test = scaler.transform(X_test)"
   ]
  },
  {
   "cell_type": "code",
   "execution_count": 239,
   "id": "7320597f-e159-49a8-842b-ed79f393ef2a",
   "metadata": {},
   "outputs": [
    {
     "data": {
      "text/plain": [
       "array([[0.5162317 , 1.        , 0.33774834, ..., 0.        , 0.        ,\n",
       "        0.79710145],\n",
       "       [0.14958625, 0.        , 0.53252824, ..., 1.        , 0.        ,\n",
       "        0.82608696],\n",
       "       [0.38510503, 1.        , 0.6104402 , ..., 0.        , 0.        ,\n",
       "        0.84057971],\n",
       "       ...,\n",
       "       [0.36346276, 1.        , 0.38098948, ..., 0.        , 0.        ,\n",
       "        0.88405797],\n",
       "       [0.33290898, 0.        , 0.40085703, ..., 0.        , 0.        ,\n",
       "        0.92753623],\n",
       "       [0.36346276, 0.        , 0.37670432, ..., 0.        , 0.        ,\n",
       "        0.95652174]])"
      ]
     },
     "execution_count": 239,
     "metadata": {},
     "output_type": "execute_result"
    }
   ],
   "source": [
    "X_train"
   ]
  },
  {
   "cell_type": "code",
   "execution_count": 240,
   "id": "0f8ce28f-81ab-480a-b922-2534f3a1f8fd",
   "metadata": {},
   "outputs": [
    {
     "data": {
      "text/plain": [
       "array([[0.10057288, 0.        , 0.33735878, ..., 0.        , 0.        ,\n",
       "        0.73913043],\n",
       "       [0.35582432, 1.        , 0.50370082, ..., 0.        , 0.        ,\n",
       "        0.7826087 ],\n",
       "       [0.38892425, 1.        , 0.35099338, ..., 0.        , 0.        ,\n",
       "        0.8115942 ],\n",
       "       ...,\n",
       "       [0.74538511, 1.        , 0.55317491, ..., 0.        , 0.        ,\n",
       "        0.84057971],\n",
       "       [0.61807766, 1.        , 0.2267238 , ..., 0.        , 0.        ,\n",
       "        0.84057971],\n",
       "       [0.08084023, 0.        , 0.35021426, ..., 0.        , 0.        ,\n",
       "        0.7826087 ]])"
      ]
     },
     "execution_count": 240,
     "metadata": {},
     "output_type": "execute_result"
    }
   ],
   "source": [
    "X_test "
   ]
  },
  {
   "cell_type": "markdown",
   "id": "e21bff55-7ba5-4524-a5ab-d451112b83f6",
   "metadata": {},
   "source": [
    "## Creating First Model "
   ]
  },
  {
   "cell_type": "markdown",
   "id": "556eafea-d82e-467e-afb3-17f20e7ab8c6",
   "metadata": {},
   "source": [
    "**TASK: Build a sequential model to will be trained on the data. You have unlimited options here, but here is what the solution uses: a model that goes 78 --> 39 --> 19 --> 9 --> 1 output neuron**"
   ]
  },
  {
   "cell_type": "code",
   "execution_count": 241,
   "id": "90267ea9-475f-4487-a4b7-5537a7c63cf8",
   "metadata": {},
   "outputs": [],
   "source": [
    "model = Sequential()\n",
    "\n",
    "\n",
    "# input layer\n",
    "model.add(Dense(78,  activation='relu'))\n",
    "model.add(Dropout(0.25))\n",
    "\n",
    "# hidden layer\n",
    "model.add(Dense(39, activation='relu'))\n",
    "model.add(Dropout(0.25))\n",
    "\n",
    "# hidden layer\n",
    "model.add(Dense(19, activation='relu'))\n",
    "model.add(Dropout(0.25))\n",
    "\n",
    "# hidden layer\n",
    "model.add(Dense(9, activation='relu'))\n",
    "model.add(Dropout(0.25))\n",
    "\n",
    "\n",
    "# output layer\n",
    "model.add(Dense(units=1,activation='sigmoid'))\n",
    "\n",
    "# Compile model\n",
    "model.compile(loss='binary_crossentropy', optimizer='adam')"
   ]
  },
  {
   "cell_type": "code",
   "execution_count": 242,
   "id": "78a73934-8cd0-4bd0-b1f9-e5717574b550",
   "metadata": {},
   "outputs": [],
   "source": [
    "early_stop = EarlyStopping(monitor='val_loss', mode='min', verbose=1, patience=25)"
   ]
  },
  {
   "cell_type": "markdown",
   "id": "2daec435-70de-44f0-80de-7eb9c2ad5535",
   "metadata": {},
   "source": [
    "**TASK: Fit the model to the training data for at least 25 epochs. Also add in the validation data for later plotting. Optional: add in a batch_size of 256.**"
   ]
  },
  {
   "cell_type": "code",
   "execution_count": 243,
   "id": "fff9cd04-89c1-4f70-8e90-ba77c0a962cb",
   "metadata": {},
   "outputs": [
    {
     "name": "stdout",
     "output_type": "stream",
     "text": [
      "Epoch 1/25\n",
      "453/453 [==============================] - 5s 7ms/step - loss: 0.4755 - val_loss: 0.3746\n",
      "Epoch 2/25\n",
      "453/453 [==============================] - 3s 7ms/step - loss: 0.3820 - val_loss: 0.3664\n",
      "Epoch 3/25\n",
      "453/453 [==============================] - 5s 10ms/step - loss: 0.3746 - val_loss: 0.3641\n",
      "Epoch 4/25\n",
      "453/453 [==============================] - 5s 10ms/step - loss: 0.3717 - val_loss: 0.3627\n",
      "Epoch 5/25\n",
      "453/453 [==============================] - 4s 9ms/step - loss: 0.3697 - val_loss: 0.3622\n",
      "Epoch 6/25\n",
      "453/453 [==============================] - 4s 8ms/step - loss: 0.3680 - val_loss: 0.3618\n",
      "Epoch 7/25\n",
      "453/453 [==============================] - 4s 9ms/step - loss: 0.3676 - val_loss: 0.3613\n",
      "Epoch 8/25\n",
      "453/453 [==============================] - 4s 8ms/step - loss: 0.3668 - val_loss: 0.3620\n",
      "Epoch 9/25\n",
      "453/453 [==============================] - 3s 7ms/step - loss: 0.3664 - val_loss: 0.3611\n",
      "Epoch 10/25\n",
      "453/453 [==============================] - 4s 8ms/step - loss: 0.3658 - val_loss: 0.3603\n",
      "Epoch 11/25\n",
      "453/453 [==============================] - 4s 8ms/step - loss: 0.3654 - val_loss: 0.3603\n",
      "Epoch 12/25\n",
      "453/453 [==============================] - 5s 11ms/step - loss: 0.3647 - val_loss: 0.3620\n",
      "Epoch 13/25\n",
      "453/453 [==============================] - 4s 9ms/step - loss: 0.3646 - val_loss: 0.3599\n",
      "Epoch 14/25\n",
      "453/453 [==============================] - 3s 7ms/step - loss: 0.3640 - val_loss: 0.3604\n",
      "Epoch 15/25\n",
      "453/453 [==============================] - 3s 8ms/step - loss: 0.3635 - val_loss: 0.3610\n",
      "Epoch 16/25\n",
      "453/453 [==============================] - 4s 9ms/step - loss: 0.3638 - val_loss: 0.3603\n",
      "Epoch 17/25\n",
      "453/453 [==============================] - 4s 8ms/step - loss: 0.3630 - val_loss: 0.3603\n",
      "Epoch 18/25\n",
      "453/453 [==============================] - 4s 8ms/step - loss: 0.3631 - val_loss: 0.3602\n",
      "Epoch 19/25\n",
      "453/453 [==============================] - 4s 8ms/step - loss: 0.3626 - val_loss: 0.3606\n",
      "Epoch 20/25\n",
      "453/453 [==============================] - 5s 10ms/step - loss: 0.3621 - val_loss: 0.3606\n",
      "Epoch 21/25\n",
      "453/453 [==============================] - 4s 9ms/step - loss: 0.3618 - val_loss: 0.3606\n",
      "Epoch 22/25\n",
      "453/453 [==============================] - 4s 10ms/step - loss: 0.3612 - val_loss: 0.3613\n",
      "Epoch 23/25\n",
      "453/453 [==============================] - 4s 10ms/step - loss: 0.3622 - val_loss: 0.3603\n",
      "Epoch 24/25\n",
      "453/453 [==============================] - 5s 11ms/step - loss: 0.3610 - val_loss: 0.3608\n",
      "Epoch 25/25\n",
      "453/453 [==============================] - 4s 9ms/step - loss: 0.3605 - val_loss: 0.3609\n"
     ]
    },
    {
     "data": {
      "text/plain": [
       "<keras.callbacks.History at 0x2190acfdf10>"
      ]
     },
     "execution_count": 243,
     "metadata": {},
     "output_type": "execute_result"
    }
   ],
   "source": [
    "model.fit(x=X_train, \n",
    "          y=y_train, \n",
    "          epochs=25,\n",
    "          batch_size=256,\n",
    "          validation_data=(X_test, y_test),\n",
    "           callbacks=[early_stop] \n",
    "         )"
   ]
  },
  {
   "cell_type": "markdown",
   "id": "a7f3d7c1-146b-43f8-9317-09b2946828e4",
   "metadata": {},
   "source": [
    "# Evaluating First Model Performance.\n"
   ]
  },
  {
   "cell_type": "code",
   "execution_count": 244,
   "id": "fcf5affb-135c-4ed4-aae0-dc20b2995c0b",
   "metadata": {},
   "outputs": [],
   "source": [
    "losses = pd.DataFrame(model.history.history)"
   ]
  },
  {
   "cell_type": "code",
   "execution_count": 245,
   "id": "2abec5f2-a1f7-4793-b182-ed9405b7e5e9",
   "metadata": {},
   "outputs": [
    {
     "data": {
      "image/png": "[encoded data removed]",
      "text/plain": [
       "<Figure size 432x288 with 1 Axes>"
      ]
     },
     "metadata": {
      "needs_background": "light"
     },
     "output_type": "display_data"
    }
   ],
   "source": [
    "losses[['loss','val_loss']].plot();"
   ]
  },
  {
   "cell_type": "markdown",
   "id": "f685172a-d138-4585-86f3-c261a0489e0b",
   "metadata": {},
   "source": [
    "**TASK: Create predictions from the X_test set and display a classification report and confusion matrix for the X_test set.**"
   ]
  },
  {
   "cell_type": "code",
   "execution_count": 246,
   "id": "6a014394-35c7-4688-85e4-b3a52734f71d",
   "metadata": {},
   "outputs": [],
   "source": [
    "predictions = (model.predict(X_test) > 0.5).astype('int64')\n"
   ]
  },
  {
   "cell_type": "code",
   "execution_count": 247,
   "id": "8308059b-bb6d-40ef-85ea-a62df0814c75",
   "metadata": {},
   "outputs": [
    {
     "name": "stdout",
     "output_type": "stream",
     "text": [
      "              precision    recall  f1-score   support\n",
      "\n",
      "           0       0.79      0.81      0.80     19342\n",
      "           1       0.80      0.79      0.80     19247\n",
      "\n",
      "    accuracy                           0.80     38589\n",
      "   macro avg       0.80      0.80      0.80     38589\n",
      "weighted avg       0.80      0.80      0.80     38589\n",
      "\n"
     ]
    }
   ],
   "source": [
    "print(classification_report(y_test,predictions))"
   ]
  },
  {
   "cell_type": "code",
   "execution_count": 248,
   "id": "27703e34-1621-4b89-9024-076fd961b9aa",
   "metadata": {},
   "outputs": [],
   "source": [
    "cm=confusion_matrix(y_test,predictions)"
   ]
  },
  {
   "cell_type": "code",
   "execution_count": 249,
   "id": "3d408cb1-8e38-409b-89cc-602f07371072",
   "metadata": {},
   "outputs": [
    {
     "data": {
      "image/png": "[encoded data removed]",
      "text/plain": [
       "<Figure size 432x288 with 1 Axes>"
      ]
     },
     "metadata": {
      "needs_background": "light"
     },
     "output_type": "display_data"
    }
   ],
   "source": [
    "plt.title(\" Confusion Matrix\",fontsize=10,color=\"black\")\n",
    "sns.heatmap(cm,annot=True, cmap=\"Blues\",fmt=\"d\",cbar=False, annot_kws={\"size\": 18})\n",
    "plt.xlabel(\"predicted label\")\n",
    "plt.ylabel(\"true label\");"
   ]
  },
  {
   "cell_type": "code",
   "execution_count": null,
   "id": "a7c088e9-903e-45a3-b25d-a6cbcb2c235b",
   "metadata": {},
   "outputs": [],
   "source": []
  },
  {
   "cell_type": "markdown",
   "id": "c585e44c-9f8d-45c6-8f3d-446ccd3c4fc9",
   "metadata": {},
   "source": [
    "## Creating Second Module Different layer, epoch and bach size"
   ]
  },
  {
   "cell_type": "markdown",
   "id": "d3ad539f-de8e-45b4-860f-ff0bd95f8b21",
   "metadata": {},
   "source": [
    "**TASK: Build a sequential model to will be trained on the data.  a model that goes 78 --> 39 --> 19 --> 1 output neuron**"
   ]
  },
  {
   "cell_type": "code",
   "execution_count": 250,
   "id": "dcaa697e-a13a-4106-9a2b-5447f4834ebe",
   "metadata": {},
   "outputs": [],
   "source": [
    "model1 = Sequential()\n",
    "\n",
    "\n",
    "# input layer\n",
    "model1.add(Dense(78,  activation='relu'))\n",
    "model1.add(Dropout(0.25))\n",
    "\n",
    "# hidden layer\n",
    "model1.add(Dense(39, activation='relu'))\n",
    "model1.add(Dropout(0.25))\n",
    "\n",
    "# hidden layer\n",
    "model1.add(Dense(19, activation='relu'))\n",
    "model1.add(Dropout(0.25))\n",
    "\n",
    "\n",
    "# output layer\n",
    "model1.add(Dense(units=1,activation='sigmoid'))\n",
    "\n",
    "# Compile model\n",
    "model1.compile(loss='binary_crossentropy', optimizer='adam')"
   ]
  },
  {
   "cell_type": "code",
   "execution_count": 251,
   "id": "4908cd7c-882a-4e73-af64-4d7fe80f29cf",
   "metadata": {},
   "outputs": [],
   "source": [
    "early_stop1 = EarlyStopping(monitor='val_loss', mode='min', verbose=1, patience=25)"
   ]
  },
  {
   "cell_type": "code",
   "execution_count": 252,
   "id": "936ec347-901a-4414-b001-7878cf22a679",
   "metadata": {},
   "outputs": [
    {
     "name": "stdout",
     "output_type": "stream",
     "text": [
      "Epoch 1/50\n",
      "453/453 [==============================] - 6s 10ms/step - loss: 0.4551 - val_loss: 0.3747\n",
      "Epoch 2/50\n",
      "453/453 [==============================] - 3s 7ms/step - loss: 0.3776 - val_loss: 0.3645\n",
      "Epoch 3/50\n",
      "453/453 [==============================] - 3s 7ms/step - loss: 0.3699 - val_loss: 0.3624\n",
      "Epoch 4/50\n",
      "453/453 [==============================] - 3s 7ms/step - loss: 0.3665 - val_loss: 0.3626\n",
      "Epoch 5/50\n",
      "453/453 [==============================] - 4s 9ms/step - loss: 0.3654 - val_loss: 0.3609\n",
      "Epoch 6/50\n",
      "453/453 [==============================] - 4s 9ms/step - loss: 0.3638 - val_loss: 0.3605\n",
      "Epoch 7/50\n",
      "453/453 [==============================] - 3s 8ms/step - loss: 0.3637 - val_loss: 0.3607\n",
      "Epoch 8/50\n",
      "453/453 [==============================] - 4s 9ms/step - loss: 0.3626 - val_loss: 0.3607\n",
      "Epoch 9/50\n",
      "453/453 [==============================] - 5s 10ms/step - loss: 0.3619 - val_loss: 0.3627\n",
      "Epoch 10/50\n",
      "453/453 [==============================] - 4s 9ms/step - loss: 0.3620 - val_loss: 0.3607\n",
      "Epoch 11/50\n",
      "453/453 [==============================] - 4s 9ms/step - loss: 0.3612 - val_loss: 0.3600\n",
      "Epoch 12/50\n",
      "453/453 [==============================] - 4s 8ms/step - loss: 0.3605 - val_loss: 0.3613\n",
      "Epoch 13/50\n",
      "453/453 [==============================] - 4s 10ms/step - loss: 0.3604 - val_loss: 0.3607\n",
      "Epoch 14/50\n",
      "453/453 [==============================] - 4s 9ms/step - loss: 0.3599 - val_loss: 0.3602\n",
      "Epoch 15/50\n",
      "453/453 [==============================] - 4s 8ms/step - loss: 0.3600 - val_loss: 0.3608\n",
      "Epoch 16/50\n",
      "453/453 [==============================] - 4s 8ms/step - loss: 0.3592 - val_loss: 0.3618\n",
      "Epoch 17/50\n",
      "453/453 [==============================] - 4s 9ms/step - loss: 0.3592 - val_loss: 0.3603\n",
      "Epoch 18/50\n",
      "453/453 [==============================] - 4s 8ms/step - loss: 0.3588 - val_loss: 0.3611\n",
      "Epoch 19/50\n",
      "453/453 [==============================] - 4s 8ms/step - loss: 0.3579 - val_loss: 0.3604\n",
      "Epoch 20/50\n",
      "453/453 [==============================] - 4s 8ms/step - loss: 0.3580 - val_loss: 0.3616\n",
      "Epoch 21/50\n",
      "453/453 [==============================] - 4s 9ms/step - loss: 0.3582 - val_loss: 0.3605\n",
      "Epoch 22/50\n",
      "453/453 [==============================] - 5s 10ms/step - loss: 0.3572 - val_loss: 0.3600\n",
      "Epoch 23/50\n",
      "453/453 [==============================] - 4s 8ms/step - loss: 0.3571 - val_loss: 0.3612\n",
      "Epoch 24/50\n",
      "453/453 [==============================] - 4s 8ms/step - loss: 0.3571 - val_loss: 0.3615\n",
      "Epoch 25/50\n",
      "453/453 [==============================] - 5s 10ms/step - loss: 0.3563 - val_loss: 0.3605\n",
      "Epoch 26/50\n",
      "453/453 [==============================] - 3s 8ms/step - loss: 0.3566 - val_loss: 0.3599\n",
      "Epoch 27/50\n",
      "453/453 [==============================] - 3s 7ms/step - loss: 0.3564 - val_loss: 0.3600\n",
      "Epoch 28/50\n",
      "453/453 [==============================] - 4s 9ms/step - loss: 0.3560 - val_loss: 0.3603\n",
      "Epoch 29/50\n",
      "453/453 [==============================] - 4s 10ms/step - loss: 0.3555 - val_loss: 0.3604\n",
      "Epoch 30/50\n",
      "453/453 [==============================] - 4s 10ms/step - loss: 0.3556 - val_loss: 0.3620\n",
      "Epoch 31/50\n",
      "453/453 [==============================] - 4s 8ms/step - loss: 0.3549 - val_loss: 0.3608\n",
      "Epoch 32/50\n",
      "453/453 [==============================] - 4s 9ms/step - loss: 0.3549 - val_loss: 0.3619\n",
      "Epoch 33/50\n",
      "453/453 [==============================] - 4s 9ms/step - loss: 0.3551 - val_loss: 0.3601\n",
      "Epoch 34/50\n",
      "453/453 [==============================] - 4s 9ms/step - loss: 0.3540 - val_loss: 0.3604\n",
      "Epoch 35/50\n",
      "453/453 [==============================] - 4s 8ms/step - loss: 0.3540 - val_loss: 0.3609\n",
      "Epoch 36/50\n",
      "453/453 [==============================] - 4s 10ms/step - loss: 0.3537 - val_loss: 0.3621\n",
      "Epoch 37/50\n",
      "453/453 [==============================] - 5s 10ms/step - loss: 0.3544 - val_loss: 0.3606\n",
      "Epoch 38/50\n",
      "453/453 [==============================] - 4s 9ms/step - loss: 0.3529 - val_loss: 0.3601\n",
      "Epoch 39/50\n",
      "453/453 [==============================] - 4s 8ms/step - loss: 0.3537 - val_loss: 0.3610\n",
      "Epoch 40/50\n",
      "453/453 [==============================] - 4s 8ms/step - loss: 0.3532 - val_loss: 0.3617\n",
      "Epoch 41/50\n",
      "453/453 [==============================] - 4s 8ms/step - loss: 0.3534 - val_loss: 0.3616\n",
      "Epoch 42/50\n",
      "453/453 [==============================] - 4s 9ms/step - loss: 0.3529 - val_loss: 0.3624\n",
      "Epoch 43/50\n",
      "453/453 [==============================] - 4s 8ms/step - loss: 0.3527 - val_loss: 0.3623\n",
      "Epoch 44/50\n",
      "453/453 [==============================] - 4s 9ms/step - loss: 0.3529 - val_loss: 0.3637\n",
      "Epoch 45/50\n",
      "453/453 [==============================] - 5s 11ms/step - loss: 0.3527 - val_loss: 0.3610\n",
      "Epoch 46/50\n",
      "453/453 [==============================] - 4s 10ms/step - loss: 0.3524 - val_loss: 0.3610\n",
      "Epoch 47/50\n",
      "453/453 [==============================] - 4s 8ms/step - loss: 0.3521 - val_loss: 0.3614\n",
      "Epoch 48/50\n",
      "453/453 [==============================] - 3s 7ms/step - loss: 0.3524 - val_loss: 0.3609\n",
      "Epoch 49/50\n",
      "453/453 [==============================] - 4s 8ms/step - loss: 0.3518 - val_loss: 0.3609\n",
      "Epoch 50/50\n",
      "453/453 [==============================] - 4s 10ms/step - loss: 0.3524 - val_loss: 0.3613\n"
     ]
    },
    {
     "data": {
      "text/plain": [
       "<keras.callbacks.History at 0x2190ad80e80>"
      ]
     },
     "execution_count": 252,
     "metadata": {},
     "output_type": "execute_result"
    }
   ],
   "source": [
    "model1.fit(x=X_train, \n",
    "          y=y_train, \n",
    "          epochs=50,\n",
    "          batch_size=256,\n",
    "          validation_data=(X_test, y_test),\n",
    "           callbacks=[early_stop1] \n",
    "         )"
   ]
  },
  {
   "cell_type": "markdown",
   "id": "0b714ef5-3235-4d7a-86af-fe0728613e9b",
   "metadata": {},
   "source": [
    "## Evaluating Second Model Performance."
   ]
  },
  {
   "cell_type": "code",
   "execution_count": 253,
   "id": "c435f2f1-153f-4b1e-baea-35d22b6f5b14",
   "metadata": {},
   "outputs": [],
   "source": [
    "losses1 = pd.DataFrame(model1.history.history)"
   ]
  },
  {
   "cell_type": "code",
   "execution_count": 254,
   "id": "a2d508c3-0baa-4353-a637-2c31b8678fd2",
   "metadata": {},
   "outputs": [
    {
     "data": {
      "image/png": "[encoded data removed]",
      "text/plain": [
       "<Figure size 432x288 with 1 Axes>"
      ]
     },
     "metadata": {
      "needs_background": "light"
     },
     "output_type": "display_data"
    }
   ],
   "source": [
    "losses1[['loss','val_loss']].plot();"
   ]
  },
  {
   "cell_type": "code",
   "execution_count": 255,
   "id": "caf283d7-787b-4654-9475-e95410351dcc",
   "metadata": {},
   "outputs": [],
   "source": [
    "predictions1 = (model1.predict(X_test) > 0.5).astype('int64')"
   ]
  },
  {
   "cell_type": "code",
   "execution_count": 256,
   "id": "e48c2262-0193-48b2-9274-7d799f8c6d1c",
   "metadata": {},
   "outputs": [
    {
     "name": "stdout",
     "output_type": "stream",
     "text": [
      "              precision    recall  f1-score   support\n",
      "\n",
      "           0       0.79      0.81      0.80     19342\n",
      "           1       0.81      0.78      0.80     19247\n",
      "\n",
      "    accuracy                           0.80     38589\n",
      "   macro avg       0.80      0.80      0.80     38589\n",
      "weighted avg       0.80      0.80      0.80     38589\n",
      "\n"
     ]
    }
   ],
   "source": [
    "print(classification_report(y_test,predictions1))"
   ]
  },
  {
   "cell_type": "code",
   "execution_count": 257,
   "id": "566168dd-6c26-4543-b1b8-1678375cb513",
   "metadata": {},
   "outputs": [],
   "source": [
    "cm1=confusion_matrix(y_test,predictions1)"
   ]
  },
  {
   "cell_type": "code",
   "execution_count": 258,
   "id": "a4285eaa-8dbc-4e13-8974-bfcf2dcddb06",
   "metadata": {},
   "outputs": [
    {
     "data": {
      "image/png": "[encoded data removed]",
      "text/plain": [
       "<Figure size 432x288 with 1 Axes>"
      ]
     },
     "metadata": {
      "needs_background": "light"
     },
     "output_type": "display_data"
    }
   ],
   "source": [
    "plt.title(\" Confusion Matrix\",fontsize=10,color=\"black\")\n",
    "sns.heatmap(cm1,annot=True, cmap=\"Blues\",fmt=\"d\",cbar=False, annot_kws={\"size\": 18})\n",
    "plt.xlabel(\"predicted label\")\n",
    "plt.ylabel(\"true label\");"
   ]
  },
  {
   "cell_type": "markdown",
   "id": "9024aac7-cc60-42c7-b01e-6f69154e80a1",
   "metadata": {},
   "source": [
    "## Creating Third Model"
   ]
  },
  {
   "cell_type": "markdown",
   "id": "67b2dd92-17ce-45f6-8640-d677a4924d51",
   "metadata": {},
   "source": [
    "**TASK: Build a sequential model to will be trained on the data. a model that goes 78 --> 39--> 19 -->9 ---> 5 ---> 1 output neuron**"
   ]
  },
  {
   "cell_type": "code",
   "execution_count": 259,
   "id": "1743cefe-aa13-45f8-bfa5-fe8a239acfec",
   "metadata": {},
   "outputs": [],
   "source": [
    "model2 = Sequential()\n",
    "\n",
    "\n",
    "# input layer\n",
    "model2.add(Dense(78,  activation='relu'))\n",
    "model2.add(Dropout(0.25))\n",
    "\n",
    "# hidden layer\n",
    "model2.add(Dense(39, activation='relu'))\n",
    "model2.add(Dropout(0.25))\n",
    "\n",
    "# hidden layer\n",
    "model2.add(Dense(19, activation='relu'))\n",
    "model2.add(Dropout(0.25))\n",
    "# hidden layer\n",
    "model2.add(Dense(9, activation='relu'))\n",
    "model2.add(Dropout(0.25))\n",
    "\n",
    "# hidden layer\n",
    "model2.add(Dense(5, activation='relu'))\n",
    "model2.add(Dropout(0.25))\n",
    "\n",
    "\n",
    "\n",
    "# output layer\n",
    "model2.add(Dense(units=1,activation='sigmoid'))\n",
    "\n",
    "# Compile model\n",
    "model2.compile(loss='binary_crossentropy', optimizer='adam')"
   ]
  },
  {
   "cell_type": "code",
   "execution_count": 260,
   "id": "67ae5d9f-a9d8-4a10-9fdd-261c8f9a6233",
   "metadata": {},
   "outputs": [],
   "source": [
    "early_stop2 = EarlyStopping(monitor='val_loss', mode='min', verbose=1, patience=25)"
   ]
  },
  {
   "cell_type": "code",
   "execution_count": 261,
   "id": "484ab252-6dbe-426f-a75b-343f690c5c6b",
   "metadata": {},
   "outputs": [
    {
     "name": "stdout",
     "output_type": "stream",
     "text": [
      "Epoch 1/25\n",
      "453/453 [==============================] - 6s 10ms/step - loss: 0.5352 - val_loss: 0.3696\n",
      "Epoch 2/25\n",
      "453/453 [==============================] - 5s 12ms/step - loss: 0.3998 - val_loss: 0.3690\n",
      "Epoch 3/25\n",
      "453/453 [==============================] - 4s 8ms/step - loss: 0.3916 - val_loss: 0.3660\n",
      "Epoch 4/25\n",
      "453/453 [==============================] - 4s 8ms/step - loss: 0.3892 - val_loss: 0.3645\n",
      "Epoch 5/25\n",
      "453/453 [==============================] - 4s 8ms/step - loss: 0.3869 - val_loss: 0.3644\n",
      "Epoch 6/25\n",
      "453/453 [==============================] - 5s 11ms/step - loss: 0.3850 - val_loss: 0.3640\n",
      "Epoch 7/25\n",
      "453/453 [==============================] - 4s 10ms/step - loss: 0.3857 - val_loss: 0.3640\n",
      "Epoch 8/25\n",
      "453/453 [==============================] - 4s 9ms/step - loss: 0.3834 - val_loss: 0.3662\n",
      "Epoch 9/25\n",
      "453/453 [==============================] - 5s 11ms/step - loss: 0.3840 - val_loss: 0.3625\n",
      "Epoch 10/25\n",
      "453/453 [==============================] - 5s 11ms/step - loss: 0.3833 - val_loss: 0.3623\n",
      "Epoch 11/25\n",
      "453/453 [==============================] - 4s 8ms/step - loss: 0.3827 - val_loss: 0.3631\n",
      "Epoch 12/25\n",
      "453/453 [==============================] - 4s 8ms/step - loss: 0.3827 - val_loss: 0.3622\n",
      "Epoch 13/25\n",
      "453/453 [==============================] - 5s 11ms/step - loss: 0.3816 - val_loss: 0.3623\n",
      "Epoch 14/25\n",
      "453/453 [==============================] - 5s 10ms/step - loss: 0.3812 - val_loss: 0.3630\n",
      "Epoch 15/25\n",
      "453/453 [==============================] - 4s 10ms/step - loss: 0.3812 - val_loss: 0.3617\n",
      "Epoch 16/25\n",
      "453/453 [==============================] - 5s 11ms/step - loss: 0.3796 - val_loss: 0.3612\n",
      "Epoch 17/25\n",
      "453/453 [==============================] - 5s 11ms/step - loss: 0.3799 - val_loss: 0.3621\n",
      "Epoch 18/25\n",
      "453/453 [==============================] - 3s 8ms/step - loss: 0.3796 - val_loss: 0.3617\n",
      "Epoch 19/25\n",
      "453/453 [==============================] - 3s 8ms/step - loss: 0.3790 - val_loss: 0.3604\n",
      "Epoch 20/25\n",
      "453/453 [==============================] - 4s 9ms/step - loss: 0.3789 - val_loss: 0.3615\n",
      "Epoch 21/25\n",
      "453/453 [==============================] - 5s 11ms/step - loss: 0.3791 - val_loss: 0.3608\n",
      "Epoch 22/25\n",
      "453/453 [==============================] - 4s 9ms/step - loss: 0.3779 - val_loss: 0.3625\n",
      "Epoch 23/25\n",
      "453/453 [==============================] - 4s 9ms/step - loss: 0.3782 - val_loss: 0.3622\n",
      "Epoch 24/25\n",
      "453/453 [==============================] - 5s 11ms/step - loss: 0.3778 - val_loss: 0.3624\n",
      "Epoch 25/25\n",
      "453/453 [==============================] - 4s 10ms/step - loss: 0.3779 - val_loss: 0.3617\n"
     ]
    },
    {
     "data": {
      "text/plain": [
       "<keras.callbacks.History at 0x2190bf6af40>"
      ]
     },
     "execution_count": 261,
     "metadata": {},
     "output_type": "execute_result"
    }
   ],
   "source": [
    "model2.fit(x=X_train, \n",
    "          y=y_train, \n",
    "          epochs=25,\n",
    "          batch_size=256,\n",
    "          validation_data=(X_test, y_test),\n",
    "           callbacks=[early_stop1] \n",
    "         )"
   ]
  },
  {
   "cell_type": "markdown",
   "id": "b68b072e-b828-4644-b180-5447b1f02edd",
   "metadata": {},
   "source": [
    "## Evaluating Third Model Performance."
   ]
  },
  {
   "cell_type": "code",
   "execution_count": 262,
   "id": "42807b71-144e-4dbc-8b64-26ec0c236677",
   "metadata": {},
   "outputs": [],
   "source": [
    "losses2 = pd.DataFrame(model2.history.history)"
   ]
  },
  {
   "cell_type": "code",
   "execution_count": 263,
   "id": "5664c836-5ca7-41ec-b1fe-589dd7b6d499",
   "metadata": {},
   "outputs": [
    {
     "data": {
      "image/png": "[encoded data removed]",
      "text/plain": [
       "<Figure size 432x288 with 1 Axes>"
      ]
     },
     "metadata": {
      "needs_background": "light"
     },
     "output_type": "display_data"
    }
   ],
   "source": [
    "losses2[['loss','val_loss']].plot();"
   ]
  },
  {
   "cell_type": "code",
   "execution_count": 264,
   "id": "cd870d52-341a-4e32-a2b3-b0c1ebf09db5",
   "metadata": {},
   "outputs": [],
   "source": [
    "predictions2 = (model2.predict(X_test) > 0.5).astype('int64')"
   ]
  },
  {
   "cell_type": "code",
   "execution_count": 265,
   "id": "42b91806-b5d8-49c9-ba74-68608b15954a",
   "metadata": {},
   "outputs": [
    {
     "name": "stdout",
     "output_type": "stream",
     "text": [
      "              precision    recall  f1-score   support\n",
      "\n",
      "           0       0.79      0.82      0.80     19342\n",
      "           1       0.81      0.78      0.79     19247\n",
      "\n",
      "    accuracy                           0.80     38589\n",
      "   macro avg       0.80      0.80      0.80     38589\n",
      "weighted avg       0.80      0.80      0.80     38589\n",
      "\n"
     ]
    }
   ],
   "source": [
    "print(classification_report(y_test,predictions2))"
   ]
  },
  {
   "cell_type": "code",
   "execution_count": 266,
   "id": "6e59cd71-e790-4fbf-8070-295e5c25845b",
   "metadata": {},
   "outputs": [],
   "source": [
    "cm2=confusion_matrix(y_test,predictions2)"
   ]
  },
  {
   "cell_type": "code",
   "execution_count": 267,
   "id": "8852676e-abae-473d-88c9-acb2e4f77d74",
   "metadata": {},
   "outputs": [
    {
     "data": {
      "image/png": "[encoded data removed]",
      "text/plain": [
       "<Figure size 432x288 with 1 Axes>"
      ]
     },
     "metadata": {
      "needs_background": "light"
     },
     "output_type": "display_data"
    }
   ],
   "source": [
    "plt.title(\" Confusion Matrix\",fontsize=10,color=\"black\")\n",
    "sns.heatmap(cm2,annot=True, cmap=\"Blues\",fmt=\"d\",cbar=False, annot_kws={\"size\": 18})\n",
    "plt.xlabel(\"predicted label\")\n",
    "plt.ylabel(\"true label\");"
   ]
  },
  {
   "cell_type": "markdown",
   "id": "fd4afecf-eeac-4ecc-ab42-201edb0b4eff",
   "metadata": {},
   "source": [
    "**TASK: Given the customers below, would you offer this person a loan?**"
   ]
  },
  {
   "cell_type": "code",
   "execution_count": 268,
   "id": "6a26172e-4a34-48d4-899c-298b9b55fcec",
   "metadata": {},
   "outputs": [
    {
     "data": {
      "text/plain": [
       "loan_amnt           22000.00\n",
       "term                   36.00\n",
       "int_rate                8.90\n",
       "installment           698.58\n",
       "annual_inc          80000.00\n",
       "                      ...   \n",
       "48052                   0.00\n",
       "70466                   0.00\n",
       "86630                   0.00\n",
       "93700                   0.00\n",
       "earliest_cr_year     1999.00\n",
       "Name: 150100, Length: 78, dtype: float64"
      ]
     },
     "execution_count": 268,
     "metadata": {},
     "output_type": "execute_result"
    }
   ],
   "source": [
    "import random\n",
    "random.seed(10)\n",
    "random_ind = random.randint(0,len(df))\n",
    "\n",
    "new_customer1 = df.drop('loan_repaid',axis=1).iloc[random_ind]\n",
    "new_customer1"
   ]
  },
  {
   "cell_type": "code",
   "execution_count": 269,
   "id": "f3fe32a9-051d-4da1-8e1f-19cacf603372",
   "metadata": {},
   "outputs": [
    {
     "name": "stdout",
     "output_type": "stream",
     "text": [
      "Predicted Values : [[1]]\n",
      "Actual values: 1.0\n"
     ]
    }
   ],
   "source": [
    "#First Model Prediction\n",
    "\n",
    "predictions = (model.predict(new_customer1.values.reshape(1,78)) > 0.5).astype('int64')\n",
    "print('Predicted Values :',predictions)\n",
    "print('Actual values:',df.iloc[random_ind]['loan_repaid'])"
   ]
  },
  {
   "cell_type": "code",
   "execution_count": 270,
   "id": "fc07f7e2-e206-47c5-a815-87294e28a404",
   "metadata": {},
   "outputs": [
    {
     "name": "stdout",
     "output_type": "stream",
     "text": [
      "Predicted Values : [[1]]\n",
      "Actual values: 1.0\n"
     ]
    }
   ],
   "source": [
    "#Second Model Prediction\n",
    "\n",
    "predictions1 = (model1.predict(new_customer1.values.reshape(1,78)) > 0.5).astype('int64')\n",
    "predictions1\n",
    "print('Predicted Values :',predictions1)\n",
    "print('Actual values:',df.iloc[random_ind]['loan_repaid'])\n"
   ]
  },
  {
   "cell_type": "code",
   "execution_count": 271,
   "id": "3a78c613-70e5-4077-a143-4e3d1becae22",
   "metadata": {},
   "outputs": [
    {
     "name": "stdout",
     "output_type": "stream",
     "text": [
      "Predicted Values : [[1]]\n",
      "Actual values: 1.0\n"
     ]
    }
   ],
   "source": [
    "#Third Model Prediction\n",
    "\n",
    "predictions2 = (model2.predict(new_customer1.values.reshape(1,78)) > 0.5).astype('int64')\n",
    "predictions2\n",
    "print('Predicted Values :',predictions2)\n",
    "print('Actual values:',df.iloc[random_ind]['loan_repaid'])"
   ]
  },
  {
   "cell_type": "markdown",
   "id": "07308c41-214d-47e5-b2ad-4afccc1bd134",
   "metadata": {},
   "source": [
    "**Second Customer Predictions**"
   ]
  },
  {
   "cell_type": "code",
   "execution_count": 272,
   "id": "f7037a1f-b798-4836-bb9c-13343f543212",
   "metadata": {},
   "outputs": [
    {
     "data": {
      "text/plain": [
       "loan_amnt           14500.00\n",
       "term                   36.00\n",
       "int_rate                6.03\n",
       "installment           441.32\n",
       "annual_inc          75458.13\n",
       "                      ...   \n",
       "48052                   1.00\n",
       "70466                   0.00\n",
       "86630                   0.00\n",
       "93700                   0.00\n",
       "earliest_cr_year     1999.00\n",
       "Name: 67095, Length: 78, dtype: float64"
      ]
     },
     "execution_count": 272,
     "metadata": {},
     "output_type": "execute_result"
    }
   ],
   "source": [
    "random.seed(5)\n",
    "random_ind1 = random.randint(0,len(df))\n",
    "\n",
    "new_customer2 = df.drop('loan_repaid',axis=1).iloc[random_ind1]\n",
    "new_customer2"
   ]
  },
  {
   "cell_type": "code",
   "execution_count": 273,
   "id": "f318b446-650c-49be-8b8e-728608ae423f",
   "metadata": {},
   "outputs": [
    {
     "name": "stdout",
     "output_type": "stream",
     "text": [
      "Predicted Values : [[1]]\n",
      "Actual values: 0.0\n"
     ]
    }
   ],
   "source": [
    "#First Model Prediction for Second Customer\n",
    "\n",
    "predictions = (model.predict(new_customer2.values.reshape(1,78)) > 0.5).astype('int64')\n",
    "print('Predicted Values :',predictions)\n",
    "print('Actual values:',df.iloc[random_ind1]['loan_repaid'])"
   ]
  },
  {
   "cell_type": "code",
   "execution_count": 274,
   "id": "ae663a7b-8e50-4996-8728-d2d9b047adf0",
   "metadata": {},
   "outputs": [
    {
     "name": "stdout",
     "output_type": "stream",
     "text": [
      "Predicted Values : [[1]]\n",
      "Actual values: 0.0\n"
     ]
    }
   ],
   "source": [
    "#Second Model Prediction for Second Customer\n",
    "\n",
    "predictions1 = (model1.predict(new_customer2.values.reshape(1,78)) > 0.5).astype('int64')\n",
    "predictions1\n",
    "print('Predicted Values :',predictions1)\n",
    "print('Actual values:',df.iloc[random_ind1]['loan_repaid'])"
   ]
  },
  {
   "cell_type": "code",
   "execution_count": 275,
   "id": "06050fa9-433e-4a09-bb25-ddbaf65f9eaa",
   "metadata": {},
   "outputs": [
    {
     "name": "stdout",
     "output_type": "stream",
     "text": [
      "Predicted Values : [[1]]\n",
      "Actual values: 0.0\n"
     ]
    }
   ],
   "source": [
    "#Third Model Prediction for Second Costomur\n",
    "\n",
    "predictions2 = (model2.predict(new_customer2.values.reshape(1,78)) > 0.5).astype('int64')\n",
    "predictions2\n",
    "print('Predicted Values :',predictions2)\n",
    "print('Actual values:',df.iloc[random_ind1]['loan_repaid'])"
   ]
  },
  {
   "cell_type": "markdown",
   "id": "59df440a-a8cd-412b-866e-7e379fa21c28",
   "metadata": {},
   "source": [
    "## Third Customer Predictions"
   ]
  },
  {
   "cell_type": "code",
   "execution_count": 276,
   "id": "963aae1c-316c-4a66-b587-7eb5012204e8",
   "metadata": {},
   "outputs": [
    {
     "data": {
      "text/plain": [
       "loan_amnt            1500.00\n",
       "term                   36.00\n",
       "int_rate               15.31\n",
       "installment            52.23\n",
       "annual_inc          80000.00\n",
       "                      ...   \n",
       "48052                   0.00\n",
       "70466                   0.00\n",
       "86630                   0.00\n",
       "93700                   1.00\n",
       "earliest_cr_year     1996.00\n",
       "Name: 54897, Length: 78, dtype: float64"
      ]
     },
     "execution_count": 276,
     "metadata": {},
     "output_type": "execute_result"
    }
   ],
   "source": [
    "random.seed(15)\n",
    "random_ind3 = random.randint(0,len(df))\n",
    "\n",
    "new_customer3 = df.drop('loan_repaid',axis=1).iloc[random_ind3]\n",
    "new_customer3"
   ]
  },
  {
   "cell_type": "code",
   "execution_count": 277,
   "id": "a33ac038-fd2f-44b4-a7d5-9ab10e263b92",
   "metadata": {},
   "outputs": [
    {
     "name": "stdout",
     "output_type": "stream",
     "text": [
      "Predicted Values : [[1]]\n",
      "Actual values: 0.0\n"
     ]
    }
   ],
   "source": [
    "#First Model Prediction for Second Customer\n",
    "\n",
    "predictions = (model.predict(new_customer3.values.reshape(1,78)) > 0.5).astype('int64')\n",
    "print('Predicted Values :',predictions)\n",
    "print('Actual values:',df.iloc[random_ind3]['loan_repaid'])"
   ]
  },
  {
   "cell_type": "code",
   "execution_count": 278,
   "id": "d117fa74-f767-4d2c-8fa9-ca83df119591",
   "metadata": {},
   "outputs": [
    {
     "name": "stdout",
     "output_type": "stream",
     "text": [
      "Predicted Values : [[1]]\n",
      "Actual values: 0.0\n"
     ]
    }
   ],
   "source": [
    "#Second Model Prediction for Second Customer\n",
    "\n",
    "predictions1 = (model1.predict(new_customer3.values.reshape(1,78)) > 0.5).astype('int64')\n",
    "predictions1\n",
    "print('Predicted Values :',predictions1)\n",
    "print('Actual values:',df.iloc[random_ind3]['loan_repaid'])"
   ]
  },
  {
   "cell_type": "code",
   "execution_count": 279,
   "id": "9c760d56-a76a-4717-bd15-e11120dd6ca2",
   "metadata": {},
   "outputs": [
    {
     "name": "stdout",
     "output_type": "stream",
     "text": [
      "Predicted Values : [[1]]\n",
      "Actual values: 0.0\n"
     ]
    }
   ],
   "source": [
    "#Third Model Prediction for Second Costomur\n",
    "\n",
    "predictions2 = (model2.predict(new_customer3.values.reshape(1,78)) > 0.5).astype('int64')\n",
    "predictions2\n",
    "print('Predicted Values :',predictions2)\n",
    "print('Actual values:',df.iloc[random_ind3]['loan_repaid'])"
   ]
  },
  {
   "cell_type": "markdown",
   "id": "5ea5c314-833d-4787-b8a3-52773abead3c",
   "metadata": {},
   "source": [
    "## Forth Customer Predictions"
   ]
  },
  {
   "cell_type": "code",
   "execution_count": 280,
   "id": "950916b6-a14a-4e07-b18f-8ce230c05206",
   "metadata": {},
   "outputs": [
    {
     "data": {
      "text/plain": [
       "loan_amnt            8000.00\n",
       "term                   36.00\n",
       "int_rate                7.90\n",
       "installment           250.33\n",
       "annual_inc          66900.00\n",
       "                      ...   \n",
       "48052                   0.00\n",
       "70466                   1.00\n",
       "86630                   0.00\n",
       "93700                   0.00\n",
       "earliest_cr_year     1996.00\n",
       "Name: 39720, Length: 78, dtype: float64"
      ]
     },
     "execution_count": 280,
     "metadata": {},
     "output_type": "execute_result"
    }
   ],
   "source": [
    "random.seed(20)\n",
    "random_ind4 = random.randint(0,len(df))\n",
    "\n",
    "new_customer4 = df.drop('loan_repaid',axis=1).iloc[random_ind4]\n",
    "new_customer4"
   ]
  },
  {
   "cell_type": "code",
   "execution_count": 281,
   "id": "5469ddbf-dede-4c3e-9be1-1a4ca0436ca2",
   "metadata": {},
   "outputs": [
    {
     "name": "stdout",
     "output_type": "stream",
     "text": [
      "Predicted Values : [[1]]\n",
      "Actual values: 1.0\n"
     ]
    }
   ],
   "source": [
    "#First Model Prediction for Second Customer\n",
    "\n",
    "predictions = (model.predict(new_customer4.values.reshape(1,78)) > 0.5).astype('int64')\n",
    "print('Predicted Values :',predictions)\n",
    "print('Actual values:',df.iloc[random_ind4]['loan_repaid'])"
   ]
  },
  {
   "cell_type": "code",
   "execution_count": 282,
   "id": "0fcdf194-f817-4310-a6ad-a4670447fede",
   "metadata": {},
   "outputs": [
    {
     "name": "stdout",
     "output_type": "stream",
     "text": [
      "Predicted Values : [[1]]\n",
      "Actual values: 1.0\n"
     ]
    }
   ],
   "source": [
    "#Second Model Prediction for Second Customer\n",
    "\n",
    "predictions1 = (model1.predict(new_customer4.values.reshape(1,78)) > 0.5).astype('int64')\n",
    "predictions1\n",
    "print('Predicted Values :',predictions1)\n",
    "print('Actual values:',df.iloc[random_ind4]['loan_repaid'])"
   ]
  },
  {
   "cell_type": "code",
   "execution_count": 283,
   "id": "e9b644fe-a517-4b57-9712-fa3533153ddb",
   "metadata": {},
   "outputs": [
    {
     "name": "stdout",
     "output_type": "stream",
     "text": [
      "Predicted Values : [[1]]\n",
      "Actual values: 1.0\n"
     ]
    }
   ],
   "source": [
    "#Third Model Prediction for Second Costomur\n",
    "\n",
    "predictions2 = (model2.predict(new_customer4.values.reshape(1,78)) > 0.5).astype('int64')\n",
    "predictions2\n",
    "print('Predicted Values :',predictions2)\n",
    "print('Actual values:',df.iloc[random_ind4]['loan_repaid'])"
   ]
  },
  {
   "cell_type": "markdown",
   "id": "750fcb6f-4322-4755-9154-220b3df90bf7",
   "metadata": {},
   "source": [
    "## Fifth Customer Predictions"
   ]
  },
  {
   "cell_type": "code",
   "execution_count": 284,
   "id": "2c8667d0-8639-4c8b-b851-0bb5b5b1577d",
   "metadata": {},
   "outputs": [
    {
     "data": {
      "text/plain": [
       "loan_amnt           20000.00\n",
       "term                   60.00\n",
       "int_rate               13.66\n",
       "installment           461.85\n",
       "annual_inc          90000.00\n",
       "                      ...   \n",
       "48052                   0.00\n",
       "70466                   1.00\n",
       "86630                   0.00\n",
       "93700                   0.00\n",
       "earliest_cr_year     1999.00\n",
       "Name: 99020, Length: 78, dtype: float64"
      ]
     },
     "execution_count": 284,
     "metadata": {},
     "output_type": "execute_result"
    }
   ],
   "source": [
    "random.seed(25)\n",
    "random_ind5 = random.randint(0,len(df))\n",
    "\n",
    "new_customer5 = df.drop('loan_repaid',axis=1).iloc[random_ind5]\n",
    "new_customer5"
   ]
  },
  {
   "cell_type": "code",
   "execution_count": 285,
   "id": "a1fec45f-dddf-49de-b8db-074262d3d922",
   "metadata": {},
   "outputs": [
    {
     "name": "stdout",
     "output_type": "stream",
     "text": [
      "Predicted Values : [[1]]\n",
      "Actual values: 1.0\n"
     ]
    }
   ],
   "source": [
    "#First Model Prediction for Second Customer\n",
    "\n",
    "predictions = (model.predict(new_customer5.values.reshape(1,78)) > 0.5).astype('int64')\n",
    "print('Predicted Values :',predictions)\n",
    "print('Actual values:',df.iloc[random_ind5]['loan_repaid'])"
   ]
  },
  {
   "cell_type": "code",
   "execution_count": 286,
   "id": "30fa253b-d196-491e-930c-e69344ebb81b",
   "metadata": {},
   "outputs": [
    {
     "name": "stdout",
     "output_type": "stream",
     "text": [
      "Predicted Values : [[1]]\n",
      "Actual values: 1.0\n"
     ]
    }
   ],
   "source": [
    "#Second Model Prediction for Second Customer\n",
    "\n",
    "predictions1 = (model1.predict(new_customer5.values.reshape(1,78)) > 0.5).astype('int64')\n",
    "predictions1\n",
    "print('Predicted Values :',predictions1)\n",
    "print('Actual values:',df.iloc[random_ind5]['loan_repaid'])"
   ]
  },
  {
   "cell_type": "code",
   "execution_count": 287,
   "id": "e764ee21-1b97-4c76-9d83-8baea02c7f5f",
   "metadata": {},
   "outputs": [
    {
     "name": "stdout",
     "output_type": "stream",
     "text": [
      "Predicted Values : [[1]]\n",
      "Actual values: 1.0\n"
     ]
    }
   ],
   "source": [
    "#Third Model Prediction for Second Costomur\n",
    "\n",
    "predictions2 = (model2.predict(new_customer5.values.reshape(1,78)) > 0.5).astype('int64')\n",
    "predictions2\n",
    "print('Predicted Values :',predictions2)\n",
    "print('Actual values:',df.iloc[random_ind5]['loan_repaid'])"
   ]
  },
  {
   "cell_type": "markdown",
   "id": "7e4d6380-1f44-4e13-a6cc-abfc1ed22330",
   "metadata": {},
   "source": [
    "## Creating Data Frame "
   ]
  },
  {
   "cell_type": "code",
   "execution_count": 290,
   "id": "6e5ed405-584c-4360-b4ba-3fc0ef4ab7f9",
   "metadata": {},
   "outputs": [],
   "source": [
    "df_p={\n",
    "      'Actual values':[1,0,0,1,1],\n",
    "      'Predict_First_Model':[1,1,1,1,1],\n",
    "      'Predict_Second_Model':[1,1,1,1,1],\n",
    "      'Predict_Third_Model':[1,1,1,1,1],\n",
    "}"
   ]
  },
  {
   "cell_type": "code",
   "execution_count": 291,
   "id": "f8e21686-fc81-4055-85cb-84f4ff8cb63b",
   "metadata": {},
   "outputs": [
    {
     "data": {
      "text/html": [
       "<div>\n",
       "<style scoped>\n",
       "    .dataframe tbody tr th:only-of-type {\n",
       "        vertical-align: middle;\n",
       "    }\n",
       "\n",
       "    .dataframe tbody tr th {\n",
       "        vertical-align: top;\n",
       "    }\n",
       "\n",
       "    .dataframe thead th {\n",
       "        text-align: right;\n",
       "    }\n",
       "</style>\n",
       "<table border=\"1\" class=\"dataframe\">\n",
       "  <thead>\n",
       "    <tr style=\"text-align: right;\">\n",
       "      <th></th>\n",
       "      <th>Actual values</th>\n",
       "      <th>Predict_First_Model</th>\n",
       "      <th>Predict_Second_Model</th>\n",
       "      <th>Predict_Third_Model</th>\n",
       "    </tr>\n",
       "  </thead>\n",
       "  <tbody>\n",
       "    <tr>\n",
       "      <th>costumer1</th>\n",
       "      <td>1</td>\n",
       "      <td>1</td>\n",
       "      <td>1</td>\n",
       "      <td>1</td>\n",
       "    </tr>\n",
       "    <tr>\n",
       "      <th>costumer2</th>\n",
       "      <td>0</td>\n",
       "      <td>1</td>\n",
       "      <td>1</td>\n",
       "      <td>1</td>\n",
       "    </tr>\n",
       "    <tr>\n",
       "      <th>costumer3</th>\n",
       "      <td>0</td>\n",
       "      <td>1</td>\n",
       "      <td>1</td>\n",
       "      <td>1</td>\n",
       "    </tr>\n",
       "    <tr>\n",
       "      <th>costumer4</th>\n",
       "      <td>1</td>\n",
       "      <td>1</td>\n",
       "      <td>1</td>\n",
       "      <td>1</td>\n",
       "    </tr>\n",
       "    <tr>\n",
       "      <th>costumer5</th>\n",
       "      <td>1</td>\n",
       "      <td>1</td>\n",
       "      <td>1</td>\n",
       "      <td>1</td>\n",
       "    </tr>\n",
       "  </tbody>\n",
       "</table>\n",
       "</div>"
      ],
      "text/plain": [
       "           Actual values  Predict_First_Model  Predict_Second_Model  \\\n",
       "costumer1              1                    1                     1   \n",
       "costumer2              0                    1                     1   \n",
       "costumer3              0                    1                     1   \n",
       "costumer4              1                    1                     1   \n",
       "costumer5              1                    1                     1   \n",
       "\n",
       "           Predict_Third_Model  \n",
       "costumer1                    1  \n",
       "costumer2                    1  \n",
       "costumer3                    1  \n",
       "costumer4                    1  \n",
       "costumer5                    1  "
      ]
     },
     "execution_count": 291,
     "metadata": {},
     "output_type": "execute_result"
    }
   ],
   "source": [
    "data = pd.DataFrame(df_p,index=['costumer1','costumer2','costumer3','costumer4','costumer5'])\n",
    "data"
   ]
  },
  {
   "cell_type": "markdown",
   "id": "cb7b5a27-4abc-4afa-9052-cff6696e2be0",
   "metadata": {},
   "source": [
    "## End of Project"
   ]
  },
  {
   "cell_type": "code",
   "execution_count": null,
   "id": "19159c09-efaa-4241-92d1-835012dfd539",
   "metadata": {},
   "outputs": [],
   "source": []
  }
 ],
 "metadata": {
  "kernelspec": {
   "display_name": "Python 3 (ipykernel)",
   "language": "python",
   "name": "python3"
  },
  "language_info": {
   "codemirror_mode": {
    "name": "ipython",
    "version": 3
   },
   "file_extension": ".py",
   "mimetype": "text/x-python",
   "name": "python",
   "nbconvert_exporter": "python",
   "pygments_lexer": "ipython3",
   "version": "3.9.7"
  }
 },
 "nbformat": 4,
 "nbformat_minor": 5
}
